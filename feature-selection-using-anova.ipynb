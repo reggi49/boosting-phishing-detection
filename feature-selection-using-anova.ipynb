{
 "cells": [
  {
   "cell_type": "markdown",
   "id": "ff13eb5d",
   "metadata": {
    "papermill": {
     "duration": 0.009991,
     "end_time": "2022-10-18T14:55:28.449663",
     "exception": false,
     "start_time": "2022-10-18T14:55:28.439672",
     "status": "completed"
    },
    "tags": []
   },
   "source": [
    "Analysis of variance (ANOVA) is a statistical model used to analyze differences between means.\n",
    "\n",
    "It appears that ANOVA is sometimes used for feature selection.\n",
    "\n",
    "[How to Choose a Feature Selection Method For Machine Learning](https://machinelearningmastery.com/feature-selection-with-real-and-categorical-data/)\n",
    "\n",
    "We will perform feature extraction using ANOVA on a special dataset of \"large p small n\".\n"
   ]
  },
  {
   "cell_type": "code",
   "execution_count": 1,
   "id": "1fa3ccd3",
   "metadata": {
    "execution": {
     "iopub.execute_input": "2022-10-18T14:55:28.464202Z",
     "iopub.status.busy": "2022-10-18T14:55:28.463123Z",
     "iopub.status.idle": "2022-10-18T14:55:29.798448Z",
     "shell.execute_reply": "2022-10-18T14:55:29.797128Z"
    },
    "papermill": {
     "duration": 1.34591,
     "end_time": "2022-10-18T14:55:29.801758",
     "exception": false,
     "start_time": "2022-10-18T14:55:28.455848",
     "status": "completed"
    },
    "tags": []
   },
   "outputs": [],
   "source": [
    "import pandas as pd\n",
    "import matplotlib.pyplot as plt\n",
    "\n",
    "from sklearn.feature_selection import SelectKBest\n",
    "from sklearn.feature_selection import f_classif"
   ]
  },
  {
   "cell_type": "code",
   "execution_count": 2,
   "id": "b241a964",
   "metadata": {
    "execution": {
     "iopub.execute_input": "2022-10-18T14:55:29.814780Z",
     "iopub.status.busy": "2022-10-18T14:55:29.814375Z",
     "iopub.status.idle": "2022-10-18T14:55:29.869548Z",
     "shell.execute_reply": "2022-10-18T14:55:29.868616Z"
    },
    "papermill": {
     "duration": 0.065103,
     "end_time": "2022-10-18T14:55:29.872295",
     "exception": false,
     "start_time": "2022-10-18T14:55:29.807192",
     "status": "completed"
    },
    "tags": []
   },
   "outputs": [],
   "source": [
    "raw = pd.read_csv('../input/lncrnalncrna-of-pediatric-sarscov2/tpm_df (1).csv', index_col=0).T\n",
    "supplement = pd.read_csv('../input/lncrnalncrna-of-pediatric-sarscov2/GSE172274_database.csv', index_col=0)"
   ]
  },
  {
   "cell_type": "code",
   "execution_count": 3,
   "id": "b2614dbf",
   "metadata": {
    "execution": {
     "iopub.execute_input": "2022-10-18T14:55:29.885469Z",
     "iopub.status.busy": "2022-10-18T14:55:29.884334Z",
     "iopub.status.idle": "2022-10-18T14:55:29.917650Z",
     "shell.execute_reply": "2022-10-18T14:55:29.916445Z"
    },
    "papermill": {
     "duration": 0.043047,
     "end_time": "2022-10-18T14:55:29.920823",
     "exception": false,
     "start_time": "2022-10-18T14:55:29.877776",
     "status": "completed"
    },
    "tags": []
   },
   "outputs": [
    {
     "data": {
      "text/html": [
       "<div>\n",
       "<style scoped>\n",
       "    .dataframe tbody tr th:only-of-type {\n",
       "        vertical-align: middle;\n",
       "    }\n",
       "\n",
       "    .dataframe tbody tr th {\n",
       "        vertical-align: top;\n",
       "    }\n",
       "\n",
       "    .dataframe thead th {\n",
       "        text-align: right;\n",
       "    }\n",
       "</style>\n",
       "<table border=\"1\" class=\"dataframe\">\n",
       "  <thead>\n",
       "    <tr style=\"text-align: right;\">\n",
       "      <th>Geneid</th>\n",
       "      <th>ENST00000606034.1</th>\n",
       "      <th>ENST00000418300.1</th>\n",
       "      <th>ENST00000648183.1</th>\n",
       "      <th>ENST00000606993.1</th>\n",
       "      <th>ENST00000379317.1</th>\n",
       "      <th>ENST00000444968.1</th>\n",
       "      <th>ENST00000428932.1</th>\n",
       "      <th>ENST00000647566.1</th>\n",
       "      <th>ENST00000607222.1</th>\n",
       "      <th>ENST00000598846.1</th>\n",
       "      <th>...</th>\n",
       "      <th>ENST00000685479.1</th>\n",
       "      <th>ENST00000403371.2</th>\n",
       "      <th>ENST00000439759.6</th>\n",
       "      <th>ENST00000454228.1</th>\n",
       "      <th>ENST00000564612.2</th>\n",
       "      <th>ENST00000430794.1</th>\n",
       "      <th>ENST00000458331.1</th>\n",
       "      <th>ENST00000426367.1</th>\n",
       "      <th>ENST00000370438.2</th>\n",
       "      <th>ENST00000624054.2</th>\n",
       "    </tr>\n",
       "  </thead>\n",
       "  <tbody>\n",
       "    <tr>\n",
       "      <th>SRR14267546</th>\n",
       "      <td>102.418396</td>\n",
       "      <td>960.655267</td>\n",
       "      <td>43.103437</td>\n",
       "      <td>511.877264</td>\n",
       "      <td>813.648599</td>\n",
       "      <td>139.335391</td>\n",
       "      <td>193.287532</td>\n",
       "      <td>137.541824</td>\n",
       "      <td>102.193357</td>\n",
       "      <td>20.182269</td>\n",
       "      <td>...</td>\n",
       "      <td>50.591571</td>\n",
       "      <td>56.351819</td>\n",
       "      <td>45.236414</td>\n",
       "      <td>45.471331</td>\n",
       "      <td>24.579472</td>\n",
       "      <td>78.152382</td>\n",
       "      <td>26.729628</td>\n",
       "      <td>27.395992</td>\n",
       "      <td>214.172555</td>\n",
       "      <td>212.663512</td>\n",
       "    </tr>\n",
       "    <tr>\n",
       "      <th>SRR14267547</th>\n",
       "      <td>209.965009</td>\n",
       "      <td>919.353448</td>\n",
       "      <td>36.199816</td>\n",
       "      <td>312.558458</td>\n",
       "      <td>393.748857</td>\n",
       "      <td>153.396477</td>\n",
       "      <td>153.048889</td>\n",
       "      <td>134.949780</td>\n",
       "      <td>73.505521</td>\n",
       "      <td>38.827138</td>\n",
       "      <td>...</td>\n",
       "      <td>43.748876</td>\n",
       "      <td>76.905211</td>\n",
       "      <td>17.915567</td>\n",
       "      <td>92.368334</td>\n",
       "      <td>29.028831</td>\n",
       "      <td>65.001636</td>\n",
       "      <td>32.053871</td>\n",
       "      <td>51.166355</td>\n",
       "      <td>91.024679</td>\n",
       "      <td>326.265354</td>\n",
       "    </tr>\n",
       "    <tr>\n",
       "      <th>SRR14267548</th>\n",
       "      <td>78.004932</td>\n",
       "      <td>959.657159</td>\n",
       "      <td>31.915486</td>\n",
       "      <td>426.924545</td>\n",
       "      <td>483.162617</td>\n",
       "      <td>108.559713</td>\n",
       "      <td>129.919097</td>\n",
       "      <td>113.735742</td>\n",
       "      <td>65.073654</td>\n",
       "      <td>26.586597</td>\n",
       "      <td>...</td>\n",
       "      <td>43.216915</td>\n",
       "      <td>82.398327</td>\n",
       "      <td>24.230820</td>\n",
       "      <td>80.370036</td>\n",
       "      <td>21.506893</td>\n",
       "      <td>50.904316</td>\n",
       "      <td>55.412201</td>\n",
       "      <td>52.179456</td>\n",
       "      <td>63.613920</td>\n",
       "      <td>305.385482</td>\n",
       "    </tr>\n",
       "    <tr>\n",
       "      <th>SRR14267549</th>\n",
       "      <td>180.856822</td>\n",
       "      <td>1529.023189</td>\n",
       "      <td>32.631239</td>\n",
       "      <td>296.870273</td>\n",
       "      <td>505.731693</td>\n",
       "      <td>79.376956</td>\n",
       "      <td>91.477435</td>\n",
       "      <td>72.143359</td>\n",
       "      <td>56.151991</td>\n",
       "      <td>30.725670</td>\n",
       "      <td>...</td>\n",
       "      <td>39.323759</td>\n",
       "      <td>78.524110</td>\n",
       "      <td>24.552678</td>\n",
       "      <td>74.474656</td>\n",
       "      <td>49.842229</td>\n",
       "      <td>57.046187</td>\n",
       "      <td>34.638163</td>\n",
       "      <td>49.491368</td>\n",
       "      <td>101.501172</td>\n",
       "      <td>213.752821</td>\n",
       "    </tr>\n",
       "    <tr>\n",
       "      <th>SRR14267550</th>\n",
       "      <td>23.810879</td>\n",
       "      <td>627.112841</td>\n",
       "      <td>29.297883</td>\n",
       "      <td>565.401586</td>\n",
       "      <td>656.116775</td>\n",
       "      <td>96.600793</td>\n",
       "      <td>227.259314</td>\n",
       "      <td>118.315474</td>\n",
       "      <td>118.513290</td>\n",
       "      <td>36.083185</td>\n",
       "      <td>...</td>\n",
       "      <td>85.147348</td>\n",
       "      <td>83.504073</td>\n",
       "      <td>24.395309</td>\n",
       "      <td>88.986850</td>\n",
       "      <td>38.600156</td>\n",
       "      <td>71.736586</td>\n",
       "      <td>23.099664</td>\n",
       "      <td>40.637375</td>\n",
       "      <td>167.180684</td>\n",
       "      <td>384.112731</td>\n",
       "    </tr>\n",
       "  </tbody>\n",
       "</table>\n",
       "<p>5 rows × 2345 columns</p>\n",
       "</div>"
      ],
      "text/plain": [
       "Geneid       ENST00000606034.1  ENST00000418300.1  ENST00000648183.1  \\\n",
       "SRR14267546         102.418396         960.655267          43.103437   \n",
       "SRR14267547         209.965009         919.353448          36.199816   \n",
       "SRR14267548          78.004932         959.657159          31.915486   \n",
       "SRR14267549         180.856822        1529.023189          32.631239   \n",
       "SRR14267550          23.810879         627.112841          29.297883   \n",
       "\n",
       "Geneid       ENST00000606993.1  ENST00000379317.1  ENST00000444968.1  \\\n",
       "SRR14267546         511.877264         813.648599         139.335391   \n",
       "SRR14267547         312.558458         393.748857         153.396477   \n",
       "SRR14267548         426.924545         483.162617         108.559713   \n",
       "SRR14267549         296.870273         505.731693          79.376956   \n",
       "SRR14267550         565.401586         656.116775          96.600793   \n",
       "\n",
       "Geneid       ENST00000428932.1  ENST00000647566.1  ENST00000607222.1  \\\n",
       "SRR14267546         193.287532         137.541824         102.193357   \n",
       "SRR14267547         153.048889         134.949780          73.505521   \n",
       "SRR14267548         129.919097         113.735742          65.073654   \n",
       "SRR14267549          91.477435          72.143359          56.151991   \n",
       "SRR14267550         227.259314         118.315474         118.513290   \n",
       "\n",
       "Geneid       ENST00000598846.1  ...  ENST00000685479.1  ENST00000403371.2  \\\n",
       "SRR14267546          20.182269  ...          50.591571          56.351819   \n",
       "SRR14267547          38.827138  ...          43.748876          76.905211   \n",
       "SRR14267548          26.586597  ...          43.216915          82.398327   \n",
       "SRR14267549          30.725670  ...          39.323759          78.524110   \n",
       "SRR14267550          36.083185  ...          85.147348          83.504073   \n",
       "\n",
       "Geneid       ENST00000439759.6  ENST00000454228.1  ENST00000564612.2  \\\n",
       "SRR14267546          45.236414          45.471331          24.579472   \n",
       "SRR14267547          17.915567          92.368334          29.028831   \n",
       "SRR14267548          24.230820          80.370036          21.506893   \n",
       "SRR14267549          24.552678          74.474656          49.842229   \n",
       "SRR14267550          24.395309          88.986850          38.600156   \n",
       "\n",
       "Geneid       ENST00000430794.1  ENST00000458331.1  ENST00000426367.1  \\\n",
       "SRR14267546          78.152382          26.729628          27.395992   \n",
       "SRR14267547          65.001636          32.053871          51.166355   \n",
       "SRR14267548          50.904316          55.412201          52.179456   \n",
       "SRR14267549          57.046187          34.638163          49.491368   \n",
       "SRR14267550          71.736586          23.099664          40.637375   \n",
       "\n",
       "Geneid       ENST00000370438.2  ENST00000624054.2  \n",
       "SRR14267546         214.172555         212.663512  \n",
       "SRR14267547          91.024679         326.265354  \n",
       "SRR14267548          63.613920         305.385482  \n",
       "SRR14267549         101.501172         213.752821  \n",
       "SRR14267550         167.180684         384.112731  \n",
       "\n",
       "[5 rows x 2345 columns]"
      ]
     },
     "execution_count": 3,
     "metadata": {},
     "output_type": "execute_result"
    }
   ],
   "source": [
    "raw.head()"
   ]
  },
  {
   "cell_type": "code",
   "execution_count": 4,
   "id": "93e7a96b",
   "metadata": {
    "execution": {
     "iopub.execute_input": "2022-10-18T14:55:29.934864Z",
     "iopub.status.busy": "2022-10-18T14:55:29.933743Z",
     "iopub.status.idle": "2022-10-18T14:55:29.949348Z",
     "shell.execute_reply": "2022-10-18T14:55:29.948088Z"
    },
    "papermill": {
     "duration": 0.025127,
     "end_time": "2022-10-18T14:55:29.951832",
     "exception": false,
     "start_time": "2022-10-18T14:55:29.926705",
     "status": "completed"
    },
    "tags": []
   },
   "outputs": [
    {
     "data": {
      "text/html": [
       "<div>\n",
       "<style scoped>\n",
       "    .dataframe tbody tr th:only-of-type {\n",
       "        vertical-align: middle;\n",
       "    }\n",
       "\n",
       "    .dataframe tbody tr th {\n",
       "        vertical-align: top;\n",
       "    }\n",
       "\n",
       "    .dataframe thead th {\n",
       "        text-align: right;\n",
       "    }\n",
       "</style>\n",
       "<table border=\"1\" class=\"dataframe\">\n",
       "  <thead>\n",
       "    <tr style=\"text-align: right;\">\n",
       "      <th></th>\n",
       "      <th>Accession</th>\n",
       "      <th>SRA</th>\n",
       "      <th>Run</th>\n",
       "      <th>Age</th>\n",
       "      <th>Sex</th>\n",
       "      <th>respiratory score</th>\n",
       "    </tr>\n",
       "    <tr>\n",
       "      <th>ID</th>\n",
       "      <th></th>\n",
       "      <th></th>\n",
       "      <th></th>\n",
       "      <th></th>\n",
       "      <th></th>\n",
       "      <th></th>\n",
       "    </tr>\n",
       "  </thead>\n",
       "  <tbody>\n",
       "    <tr>\n",
       "      <th>COV-522</th>\n",
       "      <td>GSM5251603</td>\n",
       "      <td>SRX10629213</td>\n",
       "      <td>SRR14267546</td>\n",
       "      <td>19.00</td>\n",
       "      <td>male</td>\n",
       "      <td>1</td>\n",
       "    </tr>\n",
       "    <tr>\n",
       "      <th>COV-523</th>\n",
       "      <td>GSM5251604</td>\n",
       "      <td>SRX10629214</td>\n",
       "      <td>SRR14267547</td>\n",
       "      <td>10.00</td>\n",
       "      <td>female</td>\n",
       "      <td>1</td>\n",
       "    </tr>\n",
       "    <tr>\n",
       "      <th>COV-524</th>\n",
       "      <td>GSM5251605</td>\n",
       "      <td>SRX10629215</td>\n",
       "      <td>SRR14267548</td>\n",
       "      <td>9.00</td>\n",
       "      <td>male</td>\n",
       "      <td>1</td>\n",
       "    </tr>\n",
       "    <tr>\n",
       "      <th>COV-525</th>\n",
       "      <td>GSM5251606</td>\n",
       "      <td>SRX10629216</td>\n",
       "      <td>SRR14267549</td>\n",
       "      <td>10.00</td>\n",
       "      <td>male</td>\n",
       "      <td>1</td>\n",
       "    </tr>\n",
       "    <tr>\n",
       "      <th>COV-526</th>\n",
       "      <td>GSM5251607</td>\n",
       "      <td>SRX10629217</td>\n",
       "      <td>SRR14267550</td>\n",
       "      <td>20.00</td>\n",
       "      <td>male</td>\n",
       "      <td>1</td>\n",
       "    </tr>\n",
       "    <tr>\n",
       "      <th>COV-532</th>\n",
       "      <td>GSM5251609</td>\n",
       "      <td>SRX10629219</td>\n",
       "      <td>SRR14267552</td>\n",
       "      <td>19.00</td>\n",
       "      <td>male</td>\n",
       "      <td>1</td>\n",
       "    </tr>\n",
       "    <tr>\n",
       "      <th>COV-533</th>\n",
       "      <td>GSM5251610</td>\n",
       "      <td>SRX10629220</td>\n",
       "      <td>SRR14267553</td>\n",
       "      <td>0.42</td>\n",
       "      <td>male</td>\n",
       "      <td>1</td>\n",
       "    </tr>\n",
       "    <tr>\n",
       "      <th>COV-541</th>\n",
       "      <td>GSM5251611</td>\n",
       "      <td>SRX10629221</td>\n",
       "      <td>SRR14267554</td>\n",
       "      <td>1.00</td>\n",
       "      <td>female</td>\n",
       "      <td>1</td>\n",
       "    </tr>\n",
       "    <tr>\n",
       "      <th>COV-547</th>\n",
       "      <td>GSM5251613</td>\n",
       "      <td>SRX10629223</td>\n",
       "      <td>SRR14267556</td>\n",
       "      <td>5.00</td>\n",
       "      <td>male</td>\n",
       "      <td>1</td>\n",
       "    </tr>\n",
       "    <tr>\n",
       "      <th>COV-531</th>\n",
       "      <td>GSM5251622</td>\n",
       "      <td>SRX10629232</td>\n",
       "      <td>SRR14267565</td>\n",
       "      <td>20.00</td>\n",
       "      <td>female</td>\n",
       "      <td>1</td>\n",
       "    </tr>\n",
       "  </tbody>\n",
       "</table>\n",
       "</div>"
      ],
      "text/plain": [
       "          Accession          SRA          Run    Age     Sex  \\\n",
       "ID                                                             \n",
       "COV-522  GSM5251603  SRX10629213  SRR14267546  19.00    male   \n",
       "COV-523  GSM5251604  SRX10629214  SRR14267547  10.00  female   \n",
       "COV-524  GSM5251605  SRX10629215  SRR14267548   9.00    male   \n",
       "COV-525  GSM5251606  SRX10629216  SRR14267549  10.00    male   \n",
       "COV-526  GSM5251607  SRX10629217  SRR14267550  20.00    male   \n",
       "COV-532  GSM5251609  SRX10629219  SRR14267552  19.00    male   \n",
       "COV-533  GSM5251610  SRX10629220  SRR14267553   0.42    male   \n",
       "COV-541  GSM5251611  SRX10629221  SRR14267554   1.00  female   \n",
       "COV-547  GSM5251613  SRX10629223  SRR14267556   5.00    male   \n",
       "COV-531  GSM5251622  SRX10629232  SRR14267565  20.00  female   \n",
       "\n",
       "         respiratory score  \n",
       "ID                          \n",
       "COV-522                  1  \n",
       "COV-523                  1  \n",
       "COV-524                  1  \n",
       "COV-525                  1  \n",
       "COV-526                  1  \n",
       "COV-532                  1  \n",
       "COV-533                  1  \n",
       "COV-541                  1  \n",
       "COV-547                  1  \n",
       "COV-531                  1  "
      ]
     },
     "execution_count": 4,
     "metadata": {},
     "output_type": "execute_result"
    }
   ],
   "source": [
    "supplement"
   ]
  },
  {
   "cell_type": "markdown",
   "id": "6cfbd0f8",
   "metadata": {
    "papermill": {
     "duration": 0.005573,
     "end_time": "2022-10-18T14:55:29.963379",
     "exception": false,
     "start_time": "2022-10-18T14:55:29.957806",
     "status": "completed"
    },
    "tags": []
   },
   "source": [
    "Search for age-dependent transcripts in 3 groups: yonger age (0-5 years), middle age (9-10 years), and old age (19-20 years)\n",
    "\n",
    "yonger age (0-5 years) 　→　0\n",
    "\n",
    "middle age (9-10 years)　→　1\n",
    "\n",
    "old age (19-20 years)　 →　2"
   ]
  },
  {
   "cell_type": "code",
   "execution_count": 5,
   "id": "cfe7ab30",
   "metadata": {
    "execution": {
     "iopub.execute_input": "2022-10-18T14:55:29.976805Z",
     "iopub.status.busy": "2022-10-18T14:55:29.976125Z",
     "iopub.status.idle": "2022-10-18T14:55:29.981612Z",
     "shell.execute_reply": "2022-10-18T14:55:29.980560Z"
    },
    "papermill": {
     "duration": 0.015084,
     "end_time": "2022-10-18T14:55:29.984110",
     "exception": false,
     "start_time": "2022-10-18T14:55:29.969026",
     "status": "completed"
    },
    "tags": []
   },
   "outputs": [],
   "source": [
    "columns = raw.columns\n",
    "X = raw\n",
    "y = 2,1,1,1,2,2,0,0,0,2"
   ]
  },
  {
   "cell_type": "code",
   "execution_count": 6,
   "id": "4477e978",
   "metadata": {
    "execution": {
     "iopub.execute_input": "2022-10-18T14:55:29.998243Z",
     "iopub.status.busy": "2022-10-18T14:55:29.997464Z",
     "iopub.status.idle": "2022-10-18T14:55:30.043125Z",
     "shell.execute_reply": "2022-10-18T14:55:30.041895Z"
    },
    "papermill": {
     "duration": 0.055917,
     "end_time": "2022-10-18T14:55:30.046025",
     "exception": false,
     "start_time": "2022-10-18T14:55:29.990108",
     "status": "completed"
    },
    "tags": []
   },
   "outputs": [],
   "source": [
    "selector = SelectKBest(f_classif, k=10) # k is the number of features to be selected\n",
    "X_new = selector.fit_transform(X, y)"
   ]
  },
  {
   "cell_type": "code",
   "execution_count": 7,
   "id": "f439e876",
   "metadata": {
    "execution": {
     "iopub.execute_input": "2022-10-18T14:55:30.059972Z",
     "iopub.status.busy": "2022-10-18T14:55:30.059324Z",
     "iopub.status.idle": "2022-10-18T14:55:30.065598Z",
     "shell.execute_reply": "2022-10-18T14:55:30.063987Z"
    },
    "papermill": {
     "duration": 0.01599,
     "end_time": "2022-10-18T14:55:30.067969",
     "exception": false,
     "start_time": "2022-10-18T14:55:30.051979",
     "status": "completed"
    },
    "tags": []
   },
   "outputs": [
    {
     "name": "stdout",
     "output_type": "stream",
     "text": [
      "feature importance:  [4.42378785 1.09666325 0.82789515 ... 0.34266988 2.73136108 0.13117613]\n"
     ]
    }
   ],
   "source": [
    "print('feature importance: ', selector.scores_)"
   ]
  },
  {
   "cell_type": "code",
   "execution_count": 8,
   "id": "3ca0cd4e",
   "metadata": {
    "execution": {
     "iopub.execute_input": "2022-10-18T14:55:30.081404Z",
     "iopub.status.busy": "2022-10-18T14:55:30.080978Z",
     "iopub.status.idle": "2022-10-18T14:55:30.086634Z",
     "shell.execute_reply": "2022-10-18T14:55:30.085532Z"
    },
    "papermill": {
     "duration": 0.015223,
     "end_time": "2022-10-18T14:55:30.089139",
     "exception": false,
     "start_time": "2022-10-18T14:55:30.073916",
     "status": "completed"
    },
    "tags": []
   },
   "outputs": [
    {
     "name": "stdout",
     "output_type": "stream",
     "text": [
      "pvalues:  [0.05727607 0.38520219 0.47563039 ... 0.72114466 0.13279996 0.87916938]\n"
     ]
    }
   ],
   "source": [
    "print('pvalues: ', selector.pvalues_)"
   ]
  },
  {
   "cell_type": "code",
   "execution_count": 9,
   "id": "717fab2c",
   "metadata": {
    "execution": {
     "iopub.execute_input": "2022-10-18T14:55:30.102739Z",
     "iopub.status.busy": "2022-10-18T14:55:30.102346Z",
     "iopub.status.idle": "2022-10-18T14:55:30.111407Z",
     "shell.execute_reply": "2022-10-18T14:55:30.110327Z"
    },
    "papermill": {
     "duration": 0.018586,
     "end_time": "2022-10-18T14:55:30.113631",
     "exception": false,
     "start_time": "2022-10-18T14:55:30.095045",
     "status": "completed"
    },
    "tags": []
   },
   "outputs": [],
   "source": [
    "feature_scores = list(zip(selector.scores_,columns))\n",
    "sorted_feature_scores = sorted(feature_scores,reverse=True)\n",
    "\n",
    "num_list = []\n",
    "col_list = []\n",
    "for i in range(2345):\n",
    "   num_list.append((sorted_feature_scores[i])[0])\n",
    "   col_list.append((sorted_feature_scores [i])[1])"
   ]
  },
  {
   "cell_type": "code",
   "execution_count": 10,
   "id": "77ff59ec",
   "metadata": {
    "execution": {
     "iopub.execute_input": "2022-10-18T14:55:30.127338Z",
     "iopub.status.busy": "2022-10-18T14:55:30.126918Z",
     "iopub.status.idle": "2022-10-18T14:55:30.401930Z",
     "shell.execute_reply": "2022-10-18T14:55:30.401039Z"
    },
    "papermill": {
     "duration": 0.284605,
     "end_time": "2022-10-18T14:55:30.404238",
     "exception": false,
     "start_time": "2022-10-18T14:55:30.119633",
     "status": "completed"
    },
    "tags": []
   },
   "outputs": [
    {
     "data": {
      "text/plain": [
       "([0, 1, 2, 3, 4, 5, 6, 7, 8, 9],\n",
       " [Text(0, 0, ''),\n",
       "  Text(0, 0, ''),\n",
       "  Text(0, 0, ''),\n",
       "  Text(0, 0, ''),\n",
       "  Text(0, 0, ''),\n",
       "  Text(0, 0, ''),\n",
       "  Text(0, 0, ''),\n",
       "  Text(0, 0, ''),\n",
       "  Text(0, 0, ''),\n",
       "  Text(0, 0, '')])"
      ]
     },
     "execution_count": 10,
     "metadata": {},
     "output_type": "execute_result"
    },
    {
     "data": {
      "image/png": "[encoded data removed]",
      "text/plain": [
       "<Figure size 432x288 with 1 Axes>"
      ]
     },
     "metadata": {
      "needs_background": "light"
     },
     "output_type": "display_data"
    }
   ],
   "source": [
    "plt.bar(col_list[0:10],num_list[0:10])\n",
    "plt.xticks(rotation=90)"
   ]
  },
  {
   "cell_type": "markdown",
   "id": "a01ba370",
   "metadata": {
    "papermill": {
     "duration": 0.006932,
     "end_time": "2022-10-18T14:55:30.419734",
     "exception": false,
     "start_time": "2022-10-18T14:55:30.412802",
     "status": "completed"
    },
    "tags": []
   },
   "source": [
    "To determine which features to adopt, the significance level is set to 0.05 in advance.\n",
    "\n",
    "Features with F values greater than that value are rejected."
   ]
  },
  {
   "cell_type": "code",
   "execution_count": 11,
   "id": "dc4dc5bd",
   "metadata": {
    "execution": {
     "iopub.execute_input": "2022-10-18T14:55:30.436045Z",
     "iopub.status.busy": "2022-10-18T14:55:30.435304Z",
     "iopub.status.idle": "2022-10-18T14:55:30.440902Z",
     "shell.execute_reply": "2022-10-18T14:55:30.439756Z"
    },
    "papermill": {
     "duration": 0.016408,
     "end_time": "2022-10-18T14:55:30.443335",
     "exception": false,
     "start_time": "2022-10-18T14:55:30.426927",
     "status": "completed"
    },
    "tags": []
   },
   "outputs": [],
   "source": [
    "from scipy.stats import f\n",
    "import matplotlib.pyplot as plt\n",
    "import numpy as np"
   ]
  },
  {
   "cell_type": "code",
   "execution_count": 12,
   "id": "9d2e6142",
   "metadata": {
    "execution": {
     "iopub.execute_input": "2022-10-18T14:55:30.458119Z",
     "iopub.status.busy": "2022-10-18T14:55:30.457222Z",
     "iopub.status.idle": "2022-10-18T14:55:30.462354Z",
     "shell.execute_reply": "2022-10-18T14:55:30.461202Z"
    },
    "papermill": {
     "duration": 0.015025,
     "end_time": "2022-10-18T14:55:30.464748",
     "exception": false,
     "start_time": "2022-10-18T14:55:30.449723",
     "status": "completed"
    },
    "tags": []
   },
   "outputs": [],
   "source": [
    "dfn = 2 # Inter-level degrees of freedom(3-1)\n",
    "dfd = 2343 # Intra-level degrees of freedom(2345-2)"
   ]
  },
  {
   "cell_type": "code",
   "execution_count": 13,
   "id": "08bbb19b",
   "metadata": {
    "execution": {
     "iopub.execute_input": "2022-10-18T14:55:30.479193Z",
     "iopub.status.busy": "2022-10-18T14:55:30.478810Z",
     "iopub.status.idle": "2022-10-18T14:55:30.629430Z",
     "shell.execute_reply": "2022-10-18T14:55:30.627745Z"
    },
    "papermill": {
     "duration": 0.160778,
     "end_time": "2022-10-18T14:55:30.632037",
     "exception": false,
     "start_time": "2022-10-18T14:55:30.471259",
     "status": "completed"
    },
    "tags": []
   },
   "outputs": [
    {
     "name": "stdout",
     "output_type": "stream",
     "text": [
      "upper 5%: 2.999565848655971\n"
     ]
    },
    {
     "data": {
      "image/png": "[encoded data removed]",
      "text/plain": [
       "<Figure size 432x288 with 1 Axes>"
      ]
     },
     "metadata": {
      "needs_background": "light"
     },
     "output_type": "display_data"
    }
   ],
   "source": [
    "fig, ax = plt.subplots(1, 1)\n",
    "\n",
    "plt.xlim(-1,26)\n",
    "plt.ylim(0,1)\n",
    "x = np.linspace(f.ppf(0.0000000001, dfn, dfd),f.ppf(0.9999999999, dfn, dfd), 100)\n",
    "ax.plot(x, f.pdf(x, dfn, dfd), 'r-')\n",
    "ax.axvline(f.ppf(0.95, dfn, dfd), ls = \"--\", color = \"navy\")\n",
    "print('upper 5%:', f.ppf(0.95, dfn, dfd))"
   ]
  },
  {
   "cell_type": "code",
   "execution_count": 14,
   "id": "9b3a59c8",
   "metadata": {
    "execution": {
     "iopub.execute_input": "2022-10-18T14:55:30.647248Z",
     "iopub.status.busy": "2022-10-18T14:55:30.646767Z",
     "iopub.status.idle": "2022-10-18T14:55:30.662206Z",
     "shell.execute_reply": "2022-10-18T14:55:30.660914Z"
    },
    "papermill": {
     "duration": 0.025895,
     "end_time": "2022-10-18T14:55:30.664665",
     "exception": false,
     "start_time": "2022-10-18T14:55:30.638770",
     "status": "completed"
    },
    "tags": []
   },
   "outputs": [
    {
     "data": {
      "text/html": [
       "<div>\n",
       "<style scoped>\n",
       "    .dataframe tbody tr th:only-of-type {\n",
       "        vertical-align: middle;\n",
       "    }\n",
       "\n",
       "    .dataframe tbody tr th {\n",
       "        vertical-align: top;\n",
       "    }\n",
       "\n",
       "    .dataframe thead th {\n",
       "        text-align: right;\n",
       "    }\n",
       "</style>\n",
       "<table border=\"1\" class=\"dataframe\">\n",
       "  <thead>\n",
       "    <tr style=\"text-align: right;\">\n",
       "      <th></th>\n",
       "      <th>importance</th>\n",
       "    </tr>\n",
       "  </thead>\n",
       "  <tbody>\n",
       "    <tr>\n",
       "      <th>ENST00000613063.1</th>\n",
       "      <td>49.690195</td>\n",
       "    </tr>\n",
       "    <tr>\n",
       "      <th>ENST00000608095.1</th>\n",
       "      <td>49.031495</td>\n",
       "    </tr>\n",
       "    <tr>\n",
       "      <th>ENST00000641877.1</th>\n",
       "      <td>36.998508</td>\n",
       "    </tr>\n",
       "    <tr>\n",
       "      <th>ENST00000431804.1</th>\n",
       "      <td>34.208148</td>\n",
       "    </tr>\n",
       "    <tr>\n",
       "      <th>ENST00000567819.1</th>\n",
       "      <td>34.113395</td>\n",
       "    </tr>\n",
       "    <tr>\n",
       "      <th>...</th>\n",
       "      <td>...</td>\n",
       "    </tr>\n",
       "    <tr>\n",
       "      <th>ENST00000598970.2</th>\n",
       "      <td>0.004712</td>\n",
       "    </tr>\n",
       "    <tr>\n",
       "      <th>ENST00000418215.1</th>\n",
       "      <td>0.004466</td>\n",
       "    </tr>\n",
       "    <tr>\n",
       "      <th>ENST00000442828.2</th>\n",
       "      <td>0.004324</td>\n",
       "    </tr>\n",
       "    <tr>\n",
       "      <th>ENST00000457809.1</th>\n",
       "      <td>0.003162</td>\n",
       "    </tr>\n",
       "    <tr>\n",
       "      <th>ENST00000563605.1</th>\n",
       "      <td>0.002046</td>\n",
       "    </tr>\n",
       "  </tbody>\n",
       "</table>\n",
       "<p>2345 rows × 1 columns</p>\n",
       "</div>"
      ],
      "text/plain": [
       "                   importance\n",
       "ENST00000613063.1   49.690195\n",
       "ENST00000608095.1   49.031495\n",
       "ENST00000641877.1   36.998508\n",
       "ENST00000431804.1   34.208148\n",
       "ENST00000567819.1   34.113395\n",
       "...                       ...\n",
       "ENST00000598970.2    0.004712\n",
       "ENST00000418215.1    0.004466\n",
       "ENST00000442828.2    0.004324\n",
       "ENST00000457809.1    0.003162\n",
       "ENST00000563605.1    0.002046\n",
       "\n",
       "[2345 rows x 1 columns]"
      ]
     },
     "execution_count": 14,
     "metadata": {},
     "output_type": "execute_result"
    }
   ],
   "source": [
    "df = pd.DataFrame(num_list,index=col_list,columns=['importance'])\n",
    "df"
   ]
  },
  {
   "cell_type": "code",
   "execution_count": 15,
   "id": "0b8a8482",
   "metadata": {
    "execution": {
     "iopub.execute_input": "2022-10-18T14:55:30.681643Z",
     "iopub.status.busy": "2022-10-18T14:55:30.680223Z",
     "iopub.status.idle": "2022-10-18T14:55:30.697493Z",
     "shell.execute_reply": "2022-10-18T14:55:30.696610Z"
    },
    "papermill": {
     "duration": 0.027871,
     "end_time": "2022-10-18T14:55:30.699590",
     "exception": false,
     "start_time": "2022-10-18T14:55:30.671719",
     "status": "completed"
    },
    "tags": []
   },
   "outputs": [
    {
     "data": {
      "text/html": [
       "<div>\n",
       "<style scoped>\n",
       "    .dataframe tbody tr th:only-of-type {\n",
       "        vertical-align: middle;\n",
       "    }\n",
       "\n",
       "    .dataframe tbody tr th {\n",
       "        vertical-align: top;\n",
       "    }\n",
       "\n",
       "    .dataframe thead th {\n",
       "        text-align: right;\n",
       "    }\n",
       "</style>\n",
       "<table border=\"1\" class=\"dataframe\">\n",
       "  <thead>\n",
       "    <tr style=\"text-align: right;\">\n",
       "      <th></th>\n",
       "      <th>importance</th>\n",
       "    </tr>\n",
       "  </thead>\n",
       "  <tbody>\n",
       "    <tr>\n",
       "      <th>ENST00000613063.1</th>\n",
       "      <td>49.690195</td>\n",
       "    </tr>\n",
       "    <tr>\n",
       "      <th>ENST00000608095.1</th>\n",
       "      <td>49.031495</td>\n",
       "    </tr>\n",
       "    <tr>\n",
       "      <th>ENST00000641877.1</th>\n",
       "      <td>36.998508</td>\n",
       "    </tr>\n",
       "    <tr>\n",
       "      <th>ENST00000431804.1</th>\n",
       "      <td>34.208148</td>\n",
       "    </tr>\n",
       "    <tr>\n",
       "      <th>ENST00000567819.1</th>\n",
       "      <td>34.113395</td>\n",
       "    </tr>\n",
       "    <tr>\n",
       "      <th>...</th>\n",
       "      <td>...</td>\n",
       "    </tr>\n",
       "    <tr>\n",
       "      <th>ENST00000556383.1</th>\n",
       "      <td>3.010068</td>\n",
       "    </tr>\n",
       "    <tr>\n",
       "      <th>ENST00000692474.2</th>\n",
       "      <td>3.008072</td>\n",
       "    </tr>\n",
       "    <tr>\n",
       "      <th>ENST00000659152.1</th>\n",
       "      <td>3.007481</td>\n",
       "    </tr>\n",
       "    <tr>\n",
       "      <th>ENST00000559553.1</th>\n",
       "      <td>3.005268</td>\n",
       "    </tr>\n",
       "    <tr>\n",
       "      <th>ENST00000688483.2</th>\n",
       "      <td>3.000249</td>\n",
       "    </tr>\n",
       "  </tbody>\n",
       "</table>\n",
       "<p>494 rows × 1 columns</p>\n",
       "</div>"
      ],
      "text/plain": [
       "                   importance\n",
       "ENST00000613063.1   49.690195\n",
       "ENST00000608095.1   49.031495\n",
       "ENST00000641877.1   36.998508\n",
       "ENST00000431804.1   34.208148\n",
       "ENST00000567819.1   34.113395\n",
       "...                       ...\n",
       "ENST00000556383.1    3.010068\n",
       "ENST00000692474.2    3.008072\n",
       "ENST00000659152.1    3.007481\n",
       "ENST00000559553.1    3.005268\n",
       "ENST00000688483.2    3.000249\n",
       "\n",
       "[494 rows x 1 columns]"
      ]
     },
     "execution_count": 15,
     "metadata": {},
     "output_type": "execute_result"
    }
   ],
   "source": [
    "DE = df[df[\"importance\"]>f.ppf(0.95, dfn, dfd)]\n",
    "DE"
   ]
  },
  {
   "cell_type": "markdown",
   "id": "b6025a38",
   "metadata": {
    "papermill": {
     "duration": 0.006771,
     "end_time": "2022-10-18T14:55:30.713459",
     "exception": false,
     "start_time": "2022-10-18T14:55:30.706688",
     "status": "completed"
    },
    "tags": []
   },
   "source": [
    "We extracted 494 significant lncRNAs!\n",
    "The lncRNA particularly important for age dependency was ENST00000613063.1."
   ]
  },
  {
   "cell_type": "code",
   "execution_count": 16,
   "id": "15e8b420",
   "metadata": {
    "execution": {
     "iopub.execute_input": "2022-10-18T14:55:30.729483Z",
     "iopub.status.busy": "2022-10-18T14:55:30.728990Z",
     "iopub.status.idle": "2022-10-18T14:55:30.738564Z",
     "shell.execute_reply": "2022-10-18T14:55:30.737460Z"
    },
    "papermill": {
     "duration": 0.020468,
     "end_time": "2022-10-18T14:55:30.740924",
     "exception": false,
     "start_time": "2022-10-18T14:55:30.720456",
     "status": "completed"
    },
    "tags": []
   },
   "outputs": [],
   "source": [
    "DE.to_csv('DE.csv')"
   ]
  },
  {
   "cell_type": "code",
   "execution_count": null,
   "id": "5411b55d",
   "metadata": {
    "papermill": {
     "duration": 0.006839,
     "end_time": "2022-10-18T14:55:30.755047",
     "exception": false,
     "start_time": "2022-10-18T14:55:30.748208",
     "status": "completed"
    },
    "tags": []
   },
   "outputs": [],
   "source": []
  }
 ],
 "metadata": {
  "kernelspec": {
   "display_name": "Python 3",
   "language": "python",
   "name": "python3"
  },
  "language_info": {
   "codemirror_mode": {
    "name": "ipython",
    "version": 3
   },
   "file_extension": ".py",
   "mimetype": "text/x-python",
   "name": "python",
   "nbconvert_exporter": "python",
   "pygments_lexer": "ipython3",
   "version": "3.7.12"
  },
  "papermill": {
   "default_parameters": {},
   "duration": 12.063352,
   "end_time": "2022-10-18T14:55:31.484520",
   "environment_variables": {},
   "exception": null,
   "input_path": "__notebook__.ipynb",
   "output_path": "__notebook__.ipynb",
   "parameters": {},
   "start_time": "2022-10-18T14:55:19.421168",
   "version": "2.3.4"
  }
 },
 "nbformat": 4,
 "nbformat_minor": 5
}
