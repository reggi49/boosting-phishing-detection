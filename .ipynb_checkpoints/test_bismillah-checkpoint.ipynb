{
 "cells": [
  {
   "cell_type": "code",
   "execution_count": 251,
   "id": "e8e7c3e9-20f1-459d-b2bc-339890d05aa1",
   "metadata": {},
   "outputs": [],
   "source": [
    "from urllib.parse import urlparse,urlencode\n",
    "import ipaddress\n",
    "import re"
   ]
  },
  {
   "cell_type": "code",
   "execution_count": 264,
   "id": "f1fd509c-a6a6-420a-a145-16b14d181ed8",
   "metadata": {},
   "outputs": [],
   "source": [
    "# 1.Domain of the URL (Domain) \n",
    "def getDomain(url):  \n",
    "  domain = urlparse(url).netloc\n",
    "  if re.match(r\"^www.\",domain):\n",
    "    domain = domain.replace(\"www.\",\"\")\n",
    "    print(domain)\n",
    "  return domain"
   ]
  },
  {
   "cell_type": "code",
   "execution_count": 267,
   "id": "88bf603f-d3db-45bb-a925-1aa34e5deed2",
   "metadata": {},
   "outputs": [
    {
     "data": {
      "text/plain": [
       "'telegra.ph'"
      ]
     },
     "execution_count": 267,
     "metadata": {},
     "output_type": "execute_result"
    }
   ],
   "source": [
    "getDomain('https://telegra.ph/BT-Business-Communications-08-16')"
   ]
  },
  {
   "cell_type": "code",
   "execution_count": 254,
   "id": "fcba6658-1035-44d0-bfd0-2fe629739c43",
   "metadata": {},
   "outputs": [],
   "source": [
    "# 2.Checks for IP address in URL (Have_IP)\n",
    "\n",
    "def havingIP(url):\n",
    "\n",
    "    ip_address_match = re.search(r'\\d+\\.\\d+\\.\\d+\\.\\d+', url)\n",
    "    \n",
    "    if ip_address_match:\n",
    "        ip_address = ip_address_match.group()\n",
    "        print(ip_address)  \n",
    "        try:\n",
    "            ipaddress.ip_address(ip_address)\n",
    "            ip = 1\n",
    "        except:\n",
    "            ip = 0\n",
    "    return ip"
   ]
  },
  {
   "cell_type": "code",
   "execution_count": 268,
   "id": "3bb5fc56-6b13-4e86-b9b5-7aa5014995df",
   "metadata": {},
   "outputs": [
    {
     "name": "stdout",
     "output_type": "stream",
     "text": [
      "86.48.2.104\n"
     ]
    },
    {
     "data": {
      "text/plain": [
       "1"
      ]
     },
     "execution_count": 268,
     "metadata": {},
     "output_type": "execute_result"
    }
   ],
   "source": [
    "havingIP('http:/86.48.2.104/liyas-pleasures-2020/')"
   ]
  },
  {
   "cell_type": "code",
   "execution_count": 178,
   "id": "1f268b37-08e2-46fb-b6b7-3f4958091bd6",
   "metadata": {},
   "outputs": [],
   "source": [
    "# 3.Checks the presence of @ in URL (Have_At)\n",
    "def haveAtSign(url):\n",
    "  if \"@\" in url:\n",
    "    print('Have_At')\n",
    "    at = 1    \n",
    "  else:\n",
    "    at = 0    \n",
    "  return at"
   ]
  },
  {
   "cell_type": "code",
   "execution_count": 266,
   "id": "3e6b0cc8-7b70-409b-af28-c5a620119aa3",
   "metadata": {},
   "outputs": [
    {
     "data": {
      "text/plain": [
       "1"
      ]
     },
     "execution_count": 266,
     "metadata": {},
     "output_type": "execute_result"
    }
   ],
   "source": [
    "haveAtSign('reggi@mbtech.info')"
   ]
  },
  {
   "cell_type": "code",
   "execution_count": 180,
   "id": "5b9e5b9a-6573-42ec-8d11-aad53ceeba04",
   "metadata": {},
   "outputs": [],
   "source": [
    "# 4.Finding the length of URL and categorizing (URL_Length)\n",
    "def getLength(url):\n",
    "  if len(url) < 54:\n",
    "    length = 0            \n",
    "  else:\n",
    "    length = 1            \n",
    "  return length"
   ]
  },
  {
   "cell_type": "code",
   "execution_count": 271,
   "id": "c6a79758-a8c8-40b7-abff-73d6f1ab4644",
   "metadata": {},
   "outputs": [
    {
     "data": {
      "text/plain": [
       "1"
      ]
     },
     "execution_count": 271,
     "metadata": {},
     "output_type": "execute_result"
    }
   ],
   "source": [
    "getLength('https://jawatan-kosong.foie.site/04fe6636325819/registration.php')"
   ]
  },
  {
   "cell_type": "code",
   "execution_count": 182,
   "id": "ce9027f7-9a3e-43f1-a500-081f9b58baa8",
   "metadata": {},
   "outputs": [],
   "source": [
    "# 5.Gives number of '/' in URL (URL_Depth)\n",
    "def getDepth(url):\n",
    "  s = urlparse(url).path.split('/')\n",
    "  depth = 0\n",
    "  for j in range(len(s)):\n",
    "    if len(s[j]) != 0:\n",
    "      depth = depth+1\n",
    "  return depth"
   ]
  },
  {
   "cell_type": "code",
   "execution_count": 272,
   "id": "cc6a9bac-7b38-495b-9e75-9dfc81b36643",
   "metadata": {},
   "outputs": [
    {
     "data": {
      "text/plain": [
       "2"
      ]
     },
     "execution_count": 272,
     "metadata": {},
     "output_type": "execute_result"
    }
   ],
   "source": [
    "getDepth('https://jawatan-kosong.foie.site/04fe6636325819/registration.php')"
   ]
  },
  {
   "cell_type": "code",
   "execution_count": 184,
   "id": "78df9a21-7e79-499d-a099-bbf2ac53c713",
   "metadata": {},
   "outputs": [],
   "source": [
    "# 6.Checking for redirection '//' in the url (Redirection)\n",
    "def redirection(url):\n",
    "  pos = url.rfind('//')\n",
    "  if pos > 6:\n",
    "    if pos > 7:\n",
    "      return 1\n",
    "    else:\n",
    "      return 0\n",
    "  else:\n",
    "    return 0"
   ]
  },
  {
   "cell_type": "code",
   "execution_count": 276,
   "id": "1367c4a5-5a29-4cf3-a2f8-14f5352f93fa",
   "metadata": {},
   "outputs": [
    {
     "data": {
      "text/plain": [
       "0"
      ]
     },
     "execution_count": 276,
     "metadata": {},
     "output_type": "execute_result"
    }
   ],
   "source": [
    "redirection('https://ecnavi.jp/login/?url=https%3A%2F%2Fecnavi.jp%2Fredirect%2F%3Furl%3Dhttp%3A%2F%2Fwww.cross-a.net%2Fx.php%3Fid%3D1845_3212_22061_26563%26m%3D1004%26pid%3D%25user_id%25')"
   ]
  },
  {
   "cell_type": "code",
   "execution_count": 534,
   "id": "04f389fa-3740-4a69-99a0-5550a8fb5e41",
   "metadata": {},
   "outputs": [],
   "source": [
    "# 7.Existence of “HTTPS” Token in the Domain Part of the URL (https_Domain)\n",
    "def httpDomain(url):\n",
    "    domain = urlparse(url).netloc\n",
    "    print(domain)\n",
    "    if 'https' in domain:\n",
    "        return 1\n",
    "    else:\n",
    "        return 0"
   ]
  },
  {
   "cell_type": "code",
   "execution_count": 535,
   "id": "9d99cd22-2e41-433d-aa68-fb30310c9358",
   "metadata": {},
   "outputs": [
    {
     "name": "stdout",
     "output_type": "stream",
     "text": [
      "www.detik.com\n"
     ]
    },
    {
     "data": {
      "text/plain": [
       "0"
      ]
     },
     "execution_count": 535,
     "metadata": {},
     "output_type": "execute_result"
    }
   ],
   "source": [
    "httpDomain('https://www.detik.com/')"
   ]
  },
  {
   "cell_type": "code",
   "execution_count": 188,
   "id": "036a2fec-2311-4f3e-89aa-e4f811c25098",
   "metadata": {},
   "outputs": [],
   "source": [
    "#listing shortening services\n",
    "shortening_services = r\"bit\\.ly|goo\\.gl|shorte\\.st|go2l\\.ink|x\\.co|ow\\.ly|t\\.co|tinyurl|tr\\.im|is\\.gd|cli\\.gs|\" \\\n",
    "                      r\"yfrog\\.com|migre\\.me|ff\\.im|tiny\\.cc|url4\\.eu|twit\\.ac|su\\.pr|twurl\\.nl|snipurl\\.com|\" \\\n",
    "                      r\"short\\.to|BudURL\\.com|ping\\.fm|post\\.ly|Just\\.as|bkite\\.com|snipr\\.com|fic\\.kr|loopt\\.us|\" \\\n",
    "                      r\"doiop\\.com|short\\.ie|kl\\.am|wp\\.me|rubyurl\\.com|om\\.ly|to\\.ly|bit\\.do|t\\.co|lnkd\\.in|db\\.tt|\" \\\n",
    "                      r\"qr\\.ae|adf\\.ly|goo\\.gl|bitly\\.com|cur\\.lv|tinyurl\\.com|ow\\.ly|bit\\.ly|ity\\.im|q\\.gs|is\\.gd|\" \\\n",
    "                      r\"po\\.st|bc\\.vc|twitthis\\.com|u\\.to|j\\.mp|buzurl\\.com|cutt\\.us|u\\.bb|yourls\\.org|x\\.co|\" \\\n",
    "                      r\"prettylinkpro\\.com|scrnch\\.me|filoops\\.info|vzturl\\.com|qr\\.net|1url\\.com|tweez\\.me|v\\.gd|\" \\\n",
    "                      r\"tr\\.im|link\\.zip\\.net\""
   ]
  },
  {
   "cell_type": "code",
   "execution_count": 284,
   "id": "61d50078-f7b8-4c52-a454-b875605e582b",
   "metadata": {},
   "outputs": [],
   "source": [
    "# 8. Checking for Shortening Services in URL (Tiny_URL)\n",
    "def tinyURL(url):\n",
    "    match=re.search(shortening_services,url)\n",
    "    if match:\n",
    "        return 1\n",
    "    else:\n",
    "        return 0"
   ]
  },
  {
   "cell_type": "code",
   "execution_count": 287,
   "id": "38f5a32f-19ff-48d0-8953-96ca2e041223",
   "metadata": {},
   "outputs": [
    {
     "data": {
      "text/plain": [
       "1"
      ]
     },
     "execution_count": 287,
     "metadata": {},
     "output_type": "execute_result"
    }
   ],
   "source": [
    "tinyURL('https://tinyurl.com/2wacb6kd')"
   ]
  },
  {
   "cell_type": "code",
   "execution_count": 288,
   "id": "1ae167af-7ed6-45e9-a496-569bf1a713ef",
   "metadata": {},
   "outputs": [],
   "source": [
    "# 9.Checking for Prefix or Suffix Separated by (-) in the Domain (Prefix/Suffix)\n",
    "def prefixSuffix(url):\n",
    "    if '-' in urlparse(url).netloc:\n",
    "        return 1            # phishing\n",
    "    else:\n",
    "        return 0            # legitimate\n",
    "     "
   ]
  },
  {
   "cell_type": "code",
   "execution_count": 540,
   "id": "ad7db3b8-0bd4-4002-9793-0591c0307fa0",
   "metadata": {},
   "outputs": [
    {
     "data": {
      "text/plain": [
       "1"
      ]
     },
     "execution_count": 540,
     "metadata": {},
     "output_type": "execute_result"
    }
   ],
   "source": [
    "prefixSuffix('https://www.detik-com.com/')"
   ]
  },
  {
   "cell_type": "code",
   "execution_count": 477,
   "id": "facac2d5-b6c7-4366-986b-333534e45bc5",
   "metadata": {},
   "outputs": [],
   "source": [
    "# importing required packages for this section\n",
    "import re\n",
    "from bs4 import BeautifulSoup\n",
    "import whois\n",
    "import asyncwhois\n",
    "import urllib\n",
    "import urllib.request\n",
    "import csv\n",
    "from functools import lru_cache\n",
    "from datetime import datetime\n"
   ]
  },
  {
   "cell_type": "code",
   "execution_count": 196,
   "id": "c4e27d93-9b05-4ad4-b502-0186fed08d85",
   "metadata": {},
   "outputs": [],
   "source": [
    "# 11.DNS Record availability (DNS_Record)\n",
    "# obtained in the featureExtraction function itself"
   ]
  },
  {
   "cell_type": "code",
   "execution_count": 545,
   "id": "a129d4e8-1d1d-4a12-b46e-1c68828eb35e",
   "metadata": {},
   "outputs": [],
   "source": [
    "# 12.Web traffic (Web_Traffic)\n",
    "def web_traffic(url, csv_file):\n",
    "  # Read CSV data into a dictionary for efficient lookup\n",
    "  rank_data = {}\n",
    "  try:\n",
    "      with open(csv_file, 'r') as csvfile:\n",
    "          reader = csv.reader(csvfile)\n",
    "          for row in reader:\n",
    "              if len(row) >= 2:\n",
    "                  rank_data[row[1]] = int(row[0])\n",
    "              else:\n",
    "                  print(f\"Warning: Invalid row in CSV: {row}\")\n",
    "  except FileNotFoundError:\n",
    "      print(f\"CSV file not found: {csv_file}\")\n",
    "      return 0\n",
    "  except csv.Error as e:\n",
    "      print(f\"Error reading CSV file: {e}\")\n",
    "      return 0\n",
    "\n",
    "  # Extract domain from URL\n",
    "  domain = url.split(\"//\")[1].split(\"/\")[0]\n",
    "  print(domain)\n",
    "  # Check if domain exists in the CSV\n",
    "  if domain in rank_data:\n",
    "      rank = rank_data[domain]\n",
    "      print('rank', rank)\n",
    "      if rank < 100000:\n",
    "          return 0\n",
    "      else:\n",
    "          return 1\n",
    "  else:\n",
    "      # Domain not found in CSV, return 1 if rank is assumed to be low\n",
    "      return 1"
   ]
  },
  {
   "cell_type": "code",
   "execution_count": 409,
   "id": "bb5c59ef-2093-4800-a364-e5b898ef385a",
   "metadata": {},
   "outputs": [
    {
     "name": "stdout",
     "output_type": "stream",
     "text": [
      "overleaf.com\n",
      "rank 4940\n"
     ]
    },
    {
     "data": {
      "text/plain": [
       "0"
      ]
     },
     "execution_count": 409,
     "metadata": {},
     "output_type": "execute_result"
    }
   ],
   "source": [
    "web_traffic('https://overleaf.com','top-1m.csv')"
   ]
  },
  {
   "cell_type": "code",
   "execution_count": 361,
   "id": "2234ce03-a4dd-4d28-ad1f-303f47468f1b",
   "metadata": {},
   "outputs": [],
   "source": [
    "def check_rank(url):\n",
    "  try:\n",
    "    #Filling the whitespaces in the URL if any\n",
    "    url = urllib.parse.quote(url)\n",
    "    rank = BeautifulSoup(urllib.request.urlopen(\"http://data.alexa.com/data?cli=10&dat=s&url=\" + url).read(), \"xml\").find(\n",
    "        \"REACH\")['RANK']\n",
    "    rank = int(rank)\n",
    "  except TypeError:\n",
    "        return 1\n",
    "  if rank <100000:\n",
    "    return 1\n",
    "  else:\n",
    "    return 0"
   ]
  },
  {
   "cell_type": "code",
   "execution_count": null,
   "id": "838b3af7-5b62-42ee-8dd0-a4ff35b36bd8",
   "metadata": {},
   "outputs": [],
   "source": [
    "check_rank('https://kodeabc.xyz')"
   ]
  },
  {
   "cell_type": "code",
   "execution_count": 478,
   "id": "ce19d475-b22a-4d64-9466-f41ed551df6a",
   "metadata": {},
   "outputs": [],
   "source": [
    "# 13.Survival time of domain: The difference between termination time and creation time (Domain_Age)  \n",
    "def domainAge(domain_name):\n",
    "  creation_date = domain_name.creation_date\n",
    "  expiration_date = domain_name.expiration_date\n",
    "  if (isinstance(creation_date,str) or isinstance(expiration_date,str)):\n",
    "    try:\n",
    "      creation_date = datetime.strptime(creation_date,'%Y-%m-%d')\n",
    "      expiration_date = datetime.strptime(expiration_date,\"%Y-%m-%d\")\n",
    "    except:\n",
    "      return 1\n",
    "  if ((expiration_date is None) or (creation_date is None)):\n",
    "      return 1\n",
    "  elif ((type(expiration_date) is list) or (type(creation_date) is list)):\n",
    "      return 1\n",
    "  else:\n",
    "    ageofdomain = abs((expiration_date - creation_date).days)\n",
    "    if ((ageofdomain/30) < 6):\n",
    "      age = 1\n",
    "    else:\n",
    "      age = 0\n",
    "  return age"
   ]
  },
  {
   "cell_type": "code",
   "execution_count": 479,
   "id": "67f0d8fd-78a7-4252-9338-b931a8493797",
   "metadata": {},
   "outputs": [],
   "source": [
    "# 14.End time of domain: The difference between termination time and current time (Domain_End) \n",
    "def domainEnd(domain_name):\n",
    "  expiration_date = domain_name.expiration_date\n",
    "  if isinstance(expiration_date,str):\n",
    "    try:\n",
    "      expiration_date = datetime.strptime(expiration_date,\"%Y-%m-%d\")\n",
    "    except:\n",
    "      return 1\n",
    "  if (expiration_date is None):\n",
    "      return 1\n",
    "  elif (type(expiration_date) is list):\n",
    "      return 1\n",
    "  else:\n",
    "    today = datetime.now()\n",
    "    end = abs((expiration_date - today).days)\n",
    "    if ((end/30) < 6):\n",
    "      end = 0\n",
    "    else:\n",
    "      end = 1\n",
    "  return end"
   ]
  },
  {
   "cell_type": "code",
   "execution_count": 489,
   "id": "19f9b4ff-469f-4bee-9768-140a1e4c3982",
   "metadata": {},
   "outputs": [],
   "source": [
    "#Function to extract features\n",
    "def featureDomain(url,label):\n",
    "  print(url)\n",
    "  featuresx = []\n",
    "  #Domain based features (4)\n",
    "  dns = 0\n",
    "  try:\n",
    "    domain_name = whois.whois(urlparse(url).netloc)\n",
    "    print(domain_name)\n",
    "  except:\n",
    "    dns = 1\n",
    "\n",
    "  featuresx.append(dns)\n",
    "  #featuresx.append(web_traffic(url,'top-1m.csv'))\n",
    "  featuresx.append(1 if dns == 1 else domainAge(domain_name))\n",
    "  featuresx.append(1 if dns == 1 else domainEnd(domain_name))\n",
    "  \n",
    "  return featuresx"
   ]
  },
  {
   "cell_type": "code",
   "execution_count": 490,
   "id": "25b5aba6-30af-4247-b02d-d152e27ab95b",
   "metadata": {},
   "outputs": [
    {
     "name": "stdout",
     "output_type": "stream",
     "text": [
      "https://detik.com\n",
      "{\n",
      "  \"domain_name\": \"DETIK.COM\",\n",
      "  \"registrar\": \"Name.com, Inc.\",\n",
      "  \"registrar_url\": \"http://www.name.com\",\n",
      "  \"reseller\": null,\n",
      "  \"whois_server\": \"whois.name.com\",\n",
      "  \"referral_url\": null,\n",
      "  \"updated_date\": \"2024-05-06 16:56:50\",\n",
      "  \"creation_date\": \"1998-05-29 04:00:00\",\n",
      "  \"expiration_date\": \"2025-05-28 04:00:00\",\n",
      "  \"name_servers\": [\n",
      "    \"NS.DETIK.COM\",\n",
      "    \"NS.DETIK.NET.ID\",\n",
      "    \"NS1.DETIK.COM\",\n",
      "    \"NS1.DETIK.NET.ID\",\n",
      "    \"NS2.DETIK.COM\",\n",
      "    \"NS2.DETIK.NET.ID\"\n",
      "  ],\n",
      "  \"status\": [\n",
      "    \"clientTransferProhibited https://icann.org/epp#clientTransferProhibited\",\n",
      "    \"clientTransferProhibited https://www.icann.org/epp#clientTransferProhibited\"\n",
      "  ],\n",
      "  \"emails\": \"abuse@name.com\",\n",
      "  \"dnssec\": \"unsigned\",\n",
      "  \"name\": \"Redacted For Privacy\",\n",
      "  \"org\": \"Domain Protection Services, Inc.\",\n",
      "  \"address\": \"PO Box 1769\",\n",
      "  \"city\": \"Denver\",\n",
      "  \"state\": \"CO\",\n",
      "  \"registrant_postal_code\": \"80201\",\n",
      "  \"country\": \"US\"\n",
      "}\n"
     ]
    },
    {
     "data": {
      "text/plain": [
       "[0, 0, 1]"
      ]
     },
     "execution_count": 490,
     "metadata": {},
     "output_type": "execute_result"
    }
   ],
   "source": [
    "featureDomain('https://detik.com',1)"
   ]
  },
  {
   "cell_type": "code",
   "execution_count": 204,
   "id": "b2db5a74-1b15-4e0d-898a-6ae131f356cb",
   "metadata": {},
   "outputs": [],
   "source": [
    "import requests"
   ]
  },
  {
   "cell_type": "code",
   "execution_count": 206,
   "id": "00640606-49b1-4998-b5cd-bc0ae113d1e6",
   "metadata": {},
   "outputs": [],
   "source": [
    "# 15. IFrame Redirection (iFrame)\n",
    "def iframe(response):\n",
    "  if response == \"\":\n",
    "      return 1\n",
    "  else:\n",
    "      if re.findall(r\"[<iframe>|<frameBorder>]\", response.text):\n",
    "          return 0\n",
    "      else:\n",
    "          return 1"
   ]
  },
  {
   "cell_type": "code",
   "execution_count": 208,
   "id": "259304f8-4406-4172-b200-53c718e54723",
   "metadata": {},
   "outputs": [],
   "source": [
    "# 16.Checks the effect of mouse over on status bar (Mouse_Over)\n",
    "def mouseOver(response): \n",
    "  if response == \"\" :\n",
    "    return 1\n",
    "  else:\n",
    "    if re.findall(\"<script>.+onmouseover.+</script>\", response.text):\n",
    "      return 1\n",
    "    else:\n",
    "      return 0"
   ]
  },
  {
   "cell_type": "code",
   "execution_count": 210,
   "id": "8e382286-c84a-47f9-a488-447d107e92a3",
   "metadata": {},
   "outputs": [],
   "source": [
    "# 17.Checks the status of the right click attribute (Right_Click)\n",
    "def rightClick(response):\n",
    "  if response == \"\":\n",
    "    return 1\n",
    "  else:\n",
    "    if re.findall(r\"event.button ?== ?2\", response.text):\n",
    "      return 0\n",
    "    else:\n",
    "      return 1"
   ]
  },
  {
   "cell_type": "code",
   "execution_count": 212,
   "id": "3fc2c397-851c-471b-8ba6-e9972f79c7cf",
   "metadata": {},
   "outputs": [],
   "source": [
    "# 18.Checks the number of forwardings (Web_Forwards)    \n",
    "def forwarding(response):\n",
    "  if response == \"\":\n",
    "    return 1\n",
    "  else:\n",
    "    if len(response.history) <= 2:\n",
    "      return 0\n",
    "    else:\n",
    "      return 1"
   ]
  },
  {
   "cell_type": "code",
   "execution_count": 520,
   "id": "aef20e0b-a405-4540-b0a1-4a8de9dc1a60",
   "metadata": {},
   "outputs": [],
   "source": [
    "import requests\n",
    "\n",
    "def featureHtml(url,label):\n",
    "  print(url)\n",
    "  featuresy = []\n",
    "  #HTML & Javascript based features (4)\n",
    "  try:\n",
    "    response = requests.get(url,timeout=10)\n",
    "    response.raise_for_status()  # Raise an exception for error HTTP status codes\n",
    "    print(response)\n",
    "  except:\n",
    "    response = \"\"\n",
    "  featuresy.append(iframe(response))\n",
    "  featuresy.append(mouseOver(response))\n",
    "  featuresy.append(rightClick(response))\n",
    "  featuresy.append(forwarding(response))\n",
    "  featuresy.append(label)\n",
    "  \n",
    "  return featuresy"
   ]
  },
  {
   "cell_type": "code",
   "execution_count": 521,
   "id": "bbd5a606-3392-4129-9f91-869fb730b658",
   "metadata": {},
   "outputs": [
    {
     "name": "stdout",
     "output_type": "stream",
     "text": [
      "https://google.com\n",
      "<Response [200]>\n"
     ]
    },
    {
     "data": {
      "text/plain": [
       "[0, 1, 1, 0, 1]"
      ]
     },
     "execution_count": 521,
     "metadata": {},
     "output_type": "execute_result"
    }
   ],
   "source": [
    "featureHtml('https://google.com',1)"
   ]
  },
  {
   "cell_type": "code",
   "execution_count": 214,
   "id": "d87fa087-c1c6-4aac-855b-d0aa280a922a",
   "metadata": {},
   "outputs": [],
   "source": [
    "#Function to extract features\n",
    "def featureExtraction(url,label):\n",
    "  #print('url', url,'label', label)\n",
    "  features = []\n",
    "  #Address bar based features (10)\n",
    "  features.append(getDomain(url))\n",
    "  features.append(havingIP(url))\n",
    "  features.append(haveAtSign(url))\n",
    "  features.append(getLength(url))\n",
    "  features.append(getDepth(url))\n",
    "  features.append(redirection(url))\n",
    "  features.append(httpDomain(url))\n",
    "  features.append(tinyURL(url))\n",
    "  features.append(prefixSuffix(url))\n",
    "  \n",
    "  #Domain based features (4)\n",
    "  dns = 0\n",
    "  try:\n",
    "    domain_name = asyncwhois.lookup(urlparse(url).netloc)\n",
    "  except:\n",
    "    dns = 1\n",
    "\n",
    "  features.append(dns)\n",
    "  features.append(web_traffic(url,'top-1m.csv'))\n",
    "  features.append(1 if dns == 1 else domainAge(domain_name))\n",
    "  features.append(1 if dns == 1 else domainEnd(domain_name))\n",
    "  \n",
    "featureHtml  try:\n",
    "    response = requests.get(url,timeout=5)  \n",
    "  except:\n",
    "    response = \"\"\n",
    "  features.append(iframe(response))\n",
    "  features.append(mouseOver(response))\n",
    "  features.append(rightClick(response))\n",
    "  features.append(forwarding(response))\n",
    "  features.append(label)\n",
    "  \n",
    "  return features"
   ]
  },
  {
   "cell_type": "code",
   "execution_count": 216,
   "id": "028f0b98-2238-47ee-915e-489018526517",
   "metadata": {},
   "outputs": [
    {
     "data": {
      "text/plain": [
       "(67678, 8)"
      ]
     },
     "execution_count": 216,
     "metadata": {},
     "output_type": "execute_result"
    }
   ],
   "source": [
    "import pandas as pd\n",
    "import numpy as np\n",
    "import wget\n",
    "\n",
    "pData = pd.read_csv(\"verified_online.csv\")\n",
    "pData.shape"
   ]
  },
  {
   "cell_type": "code",
   "execution_count": 218,
   "id": "19db3055-1f48-4f16-a735-590a0ea8bb9d",
   "metadata": {},
   "outputs": [
    {
     "data": {
      "text/html": [
       "<div>\n",
       "<style scoped>\n",
       "    .dataframe tbody tr th:only-of-type {\n",
       "        vertical-align: middle;\n",
       "    }\n",
       "\n",
       "    .dataframe tbody tr th {\n",
       "        vertical-align: top;\n",
       "    }\n",
       "\n",
       "    .dataframe thead th {\n",
       "        text-align: right;\n",
       "    }\n",
       "</style>\n",
       "<table border=\"1\" class=\"dataframe\">\n",
       "  <thead>\n",
       "    <tr style=\"text-align: right;\">\n",
       "      <th></th>\n",
       "      <th>phish_id</th>\n",
       "      <th>url</th>\n",
       "      <th>phish_detail_url</th>\n",
       "      <th>submission_time</th>\n",
       "      <th>verified</th>\n",
       "      <th>verification_time</th>\n",
       "      <th>online</th>\n",
       "      <th>target</th>\n",
       "    </tr>\n",
       "  </thead>\n",
       "  <tbody>\n",
       "    <tr>\n",
       "      <th>0</th>\n",
       "      <td>8717279</td>\n",
       "      <td>https://telegra.ph/BT-Business-Communications-...</td>\n",
       "      <td>http://www.phishtank.com/phish_detail.php?phis...</td>\n",
       "      <td>2024-08-16T15:47:59+00:00</td>\n",
       "      <td>yes</td>\n",
       "      <td>2024-08-16T15:53:35+00:00</td>\n",
       "      <td>yes</td>\n",
       "      <td>Other</td>\n",
       "    </tr>\n",
       "    <tr>\n",
       "      <th>1</th>\n",
       "      <td>8376431</td>\n",
       "      <td>https://new.express.adobe.com/webpage/pZDKTv9g...</td>\n",
       "      <td>http://www.phishtank.com/phish_detail.php?phis...</td>\n",
       "      <td>2023-11-27T15:31:47+00:00</td>\n",
       "      <td>yes</td>\n",
       "      <td>2023-11-27T15:43:19+00:00</td>\n",
       "      <td>yes</td>\n",
       "      <td>Other</td>\n",
       "    </tr>\n",
       "    <tr>\n",
       "      <th>2</th>\n",
       "      <td>8831188</td>\n",
       "      <td>http://suall4ss.top</td>\n",
       "      <td>http://www.phishtank.com/phish_detail.php?phis...</td>\n",
       "      <td>2024-11-01T19:50:22+00:00</td>\n",
       "      <td>yes</td>\n",
       "      <td>2024-11-01T20:02:24+00:00</td>\n",
       "      <td>yes</td>\n",
       "      <td>Other</td>\n",
       "    </tr>\n",
       "    <tr>\n",
       "      <th>3</th>\n",
       "      <td>8836530</td>\n",
       "      <td>https://jawatan-kosong.foie.site/04fe663632581...</td>\n",
       "      <td>http://www.phishtank.com/phish_detail.php?phis...</td>\n",
       "      <td>2024-11-06T12:02:16+00:00</td>\n",
       "      <td>yes</td>\n",
       "      <td>2024-11-08T08:51:47+00:00</td>\n",
       "      <td>yes</td>\n",
       "      <td>Other</td>\n",
       "    </tr>\n",
       "    <tr>\n",
       "      <th>4</th>\n",
       "      <td>8468077</td>\n",
       "      <td>https://docs.google.com/presentation/d/e/2PACX...</td>\n",
       "      <td>http://www.phishtank.com/phish_detail.php?phis...</td>\n",
       "      <td>2024-02-26T23:11:40+00:00</td>\n",
       "      <td>yes</td>\n",
       "      <td>2024-02-27T10:42:55+00:00</td>\n",
       "      <td>yes</td>\n",
       "      <td>Other</td>\n",
       "    </tr>\n",
       "  </tbody>\n",
       "</table>\n",
       "</div>"
      ],
      "text/plain": [
       "   phish_id                                                url  \\\n",
       "0   8717279  https://telegra.ph/BT-Business-Communications-...   \n",
       "1   8376431  https://new.express.adobe.com/webpage/pZDKTv9g...   \n",
       "2   8831188                                http://suall4ss.top   \n",
       "3   8836530  https://jawatan-kosong.foie.site/04fe663632581...   \n",
       "4   8468077  https://docs.google.com/presentation/d/e/2PACX...   \n",
       "\n",
       "                                    phish_detail_url  \\\n",
       "0  http://www.phishtank.com/phish_detail.php?phis...   \n",
       "1  http://www.phishtank.com/phish_detail.php?phis...   \n",
       "2  http://www.phishtank.com/phish_detail.php?phis...   \n",
       "3  http://www.phishtank.com/phish_detail.php?phis...   \n",
       "4  http://www.phishtank.com/phish_detail.php?phis...   \n",
       "\n",
       "             submission_time verified          verification_time online target  \n",
       "0  2024-08-16T15:47:59+00:00      yes  2024-08-16T15:53:35+00:00    yes  Other  \n",
       "1  2023-11-27T15:31:47+00:00      yes  2023-11-27T15:43:19+00:00    yes  Other  \n",
       "2  2024-11-01T19:50:22+00:00      yes  2024-11-01T20:02:24+00:00    yes  Other  \n",
       "3  2024-11-06T12:02:16+00:00      yes  2024-11-08T08:51:47+00:00    yes  Other  \n",
       "4  2024-02-26T23:11:40+00:00      yes  2024-02-27T10:42:55+00:00    yes  Other  "
      ]
     },
     "execution_count": 218,
     "metadata": {},
     "output_type": "execute_result"
    }
   ],
   "source": [
    "phishurl = pData.sample(n = 100, random_state = 12).copy()\n",
    "phishurl = phishurl.reset_index(drop=True)\n",
    "phishurl.head()"
   ]
  },
  {
   "cell_type": "code",
   "execution_count": 220,
   "id": "cf9b1af4-00c1-4c32-a2da-12b6aae84053",
   "metadata": {},
   "outputs": [
    {
     "data": {
      "text/plain": [
       "(100, 8)"
      ]
     },
     "execution_count": 220,
     "metadata": {},
     "output_type": "execute_result"
    }
   ],
   "source": [
    "phishurl.shape"
   ]
  },
  {
   "cell_type": "code",
   "execution_count": 222,
   "id": "6905c730-f71d-4933-9038-05b354cca664",
   "metadata": {},
   "outputs": [
    {
     "name": "stdout",
     "output_type": "stream",
     "text": [
      "https://telegra.ph/BT-Business-Communications-08-16 0\n",
      "https://new.express.adobe.com/webpage/pZDKTv9gdBU1W 1\n",
      "http://suall4ss.top 2\n",
      "https://jawatan-kosong.foie.site/04fe6636325819/registration.php 3\n",
      "https://docs.google.com/presentation/d/e/2PACX-1vQqfA8KTZpL876qRJlO-scPzoo3Gc0h8PrE9ietG6IegpDolmqscjHK3-M977pbndgY_87Ni_3DIvOV/pub?start=false&amp;loop=false&amp;delayms=3000 4\n",
      "https://importmelo.pe/ 5\n",
      "https://dfsfger.xyz/ 6\n",
      "http://newburycafe.co.za/Webmail/57/Webmail/webmail.php 7\n",
      "https://canada.postcanadaevkwk.top/ 8\n",
      "http://cuscatlansv9580.webcindario.com/ 9\n",
      "https://canada.postcanadabwh.top/ 10\n",
      "https://t.co/P3mbhUs7YX 11\n",
      "https://gsfsfstssdu.weebly.com/ 12\n",
      "https://auth-xfinityverification.faqserv.com/xfinity/login/ 13\n",
      "https://fiffr-12d16.firebaseapp.com/ 14\n",
      "http://terra.mailcomvoce.com/09stt/acesso/seguro/terra/page/home.php 15\n",
      "https://bdvpromociona.com/bcp 16\n",
      "https://pub-b72cd462909d46f0a9b08afad77e852f.r2.dev/serbia.html#noreply@fadata.eu 17\n",
      "https://docs.google.com/presentation/d/e/2PACX-1vSgau_ddjkjPvmW2iQYUEoCa7UbwvPIwSjS4UTSsWMwKPUdXN5yJ6QeJkTgk4g-8Pt67HvTfcMMimhX/pub?start=false&amp;loop=false&amp;delayms=3000&amp;slide=id.p 18\n",
      "https://www.thailand-villas.com/img/destinations/tw/ 19\n",
      "https://pub-e9b1ffb3ecaf4416b4f40d71a6293787.r2.dev/movers.html 20\n",
      "https://theattadminhelpdesk.weebly.com/ 21\n",
      "https://atlascz-105067.weeblysite.com/ 22\n",
      "https://uspsfuy.top/ 23\n",
      "https://home-104778.weeblysite.com/ 24\n",
      "https://airtable.com/appbyWeDxQTPeK2EA/shrceSDj4b0hX6qWs 25\n",
      "http://sb-e07.pages.dev 26\n",
      "https://posturinn-is.web.app/ 27\n",
      "https://locawebvalidacaoapp-bvbwbramdshzbfat.canadacentral-01.azurewebsites.net/pt-PT/webmail/app/BR-PTb/localweb/ 28\n",
      "http://www.rjthornton.byethost13.com/ss.html 29\n",
      "https://docs.google.com/drawings/d/1OiXYtM_BTg6ZljWINUtiwtHUHJDByWQA9OcoARwSTSw/edit 30\n",
      "https://docs.google.com/presentation/d/e/2PACX-1vQgPZcdUffPK30DGNTYcmNKhK6WZrXOlmk2_mzXVIVtLzcDcjtigz6zQcYEf0G_DE6tJ9IIBE9Oee_P/pub?start=false&amp;loop=false&amp;delayms=3000 31\n",
      "https://pub-4054e7f05a57459e88c44b940037f4fb.r2.dev/wnnslo.htm 32\n",
      "https://contentauth-legdr.webflow.io/ 33\n",
      "https://urlz.fr/sL47 34\n",
      "http://tinyurl.com/2akveos5 35\n",
      "https://help-vi.top/ 36\n",
      "https://docs.google.com/presentation/d/1UDZSEelAYhv6-2gYpb6bdl_z-BhKqH2xyaSrwbqq-9g/pub?start=false&amp;loop=false&amp;delayms=3000 37\n",
      "https://orsotoscani3ito.blogspot.com 38\n",
      "https://uspsady.top/ 39\n",
      "https://landing.ohl.world/View/Link?r3vvTF+xzt/ILAnk1T1P1bTbPx0q4qJ4XuSkkrpe7/6TvzmTzv/sj/GUxJPM+qju+JczOxa1S1AqT6vC0Y3OW3DTTNBZmlvkUEBJKCUBeUyHVt1DEMuCUr8WXDC7itLX2XmJkDgMSsND9x6Z/J7q81AZTBcNCTfQIpBcigYfjsQ 40\n",
      "https://www.google.com/url?q=https%3A%2F%2F094847.webflow.io&amp;sa=D&amp;sntz=1&amp;usg=AOvVaw2KPvSEkTuCKV0n_XMZf-pI 41\n",
      "https://cbaseausigninex.gitbook.io/us 42\n",
      "https://q-r.to/bfYI2h 43\n",
      "https://q.telkomsei.cc/ 44\n",
      "https://sky-104285.weeblysite.com/ 45\n",
      "https://tinyurl.com/28ahzlth#MN18Am 46\n",
      "https://trezorusd-waglet.gitbook.io/us 47\n",
      "http://pub-d9922438f47d42eb9e9304e95f88dab1.r2.dev/xop.html 48\n",
      "https://docs.google.com/presentation/d/e/2PACX-1vQlwpKsjsLIlk5HLc8oMOuqUXBcWQilnak6FLS0MXZIjkQ2qZo4Js1FQOCZrGqtUGa-uxBpbxftPfgC/pub?start=false&amp;loop=false&amp;delayms=3000 49\n",
      "https://bit.ly/bnl-alert 50\n",
      "https://naturanyels.com/index23.html 51\n",
      "https://help-nvc.top/ 52\n",
      "https://bafybeibydkf55yygjnvwhw3qjczx3j65byqjp3giw42mqa3e7xbzsncf5y.ipfs.w3s.link/never3.htm 53\n",
      "https://omavero-gov.firebaseapp.com/ 54\n",
      "https://caseid1005789345734958.firebaseapp.com/ 55\n",
      "https://sign-in-att-109300.weeblysite.com/ 56\n",
      "https://ipfs.io/ipfs/QmP5vJqD1xNFqyhfNEkcdb1eSnJWYY25MoAFwhh1W2hX86 57\n",
      "https://docs.google.com/presentation/d/e/2PACX-1vS9xxmDsle2b1J4YsTP0dUkf8__YuPL78i4QxY20ggrG44KYWiVQRUb3WMCtf19MqscMlHFPBsn2fwp/pub?start=false&amp;loop=false&amp;delayms=3000 58\n",
      "https://pub-70e69d351fdd47719fff28ce677d9918.r2.dev/index.html 59\n",
      "https://vkkvdkdcmm.weebly.com/ 60\n",
      "https://metamaskchromqeextension.webflow.io 61\n",
      "https://caseid10035896345897345.web.app/ 62\n",
      "https://usps.com-trackvga.vip/ 63\n",
      "https://l.ead.me/bfI21o 64\n",
      "https://qrco.de/bfKKv4 65\n",
      "https://bio.site/ram21 66\n",
      "https://btsitehtfg.weebly.com/ 67\n",
      "https://tinyurl.com/b278z5w8 68\n",
      "https://www.oasisministries.com/fr/postale/ 69\n",
      "https://qrco.de/bfCdTX 70\n",
      "https://wwcoibasecomsinin.gitbook.io/us 71\n",
      "https://www.resoume.com/s?m=16OZJKehP&n=q8yxAXYHy7hq9bb9PUOPfsq1W7l1 72\n",
      "https://reurl.cc/4rD4jj 73\n",
      "https://pub-a5dea08759934238bd2363b86fdeed1a.r2.dev/makinsalin.html 74\n",
      "https://pub-1cde9c3ed013443ba04ecdf1f32d496c.r2.dev/index.html 75\n",
      "https://radios-app.web.app/ 76\n",
      "https://trackinsi.com/ 77\n",
      "https://www-correos-es.asia/9DNYcZ 78\n",
      "https://bit.ly/3XGbfC3 79\n",
      "https://docs.google.com/presentation/d/e/2PACX-1vQoj6tnSIPF-Jqqh1ZT2toMqLHi4rNgn6LL3EYsOh1IAxvQAtwp8R8CsRqLYQmNwE0vpo4EE7Iq7k8h/pub?start=false&amp;loop=false&amp;delayms=3000 80\n",
      "https://docs.google.com/presentation/d/e/2PACX-1vTDY_GZrUvyWIvHqdHXDQLIxyvpFtnuiEeZkmJWBBDu_3aJw3RC4LZ24atWqU7t7mVRTuYCoeQ-DnUC/pub?start=false&amp;loop=false&amp;delayms=3000&amp;slide=id.p 81\n",
      "https://tuzpost.top/tr 82\n",
      "https://docs.google.com/presentation/d/e/2PACX-1vSOwCgTuhEVH-ThAXqmdRTpBdMhiubYlhTeyYzjYBZ2UnoQ2vbu9tOjWX90SCXRvSNc2HpxAhVgJiTx/pub?start=true&amp;loop=false&amp;delayms=2000 83\n",
      "https://docs.google.com/presentation/d/e/2PACX-1vT1CJjB7jlymhXC632ZFL9UBrgTpUcapJ_hcFOcF4MAvQfynwM-kyt4oTyeoUK9R7_mO1pGBQV4Ov96/pub?start=false&amp;loop=false&amp;delayms=3000 84\n",
      "https://track-id8982.web.app/ 85\n",
      "https://btcmtxchainsfix.pages.dev 86\n",
      "http://tinyurl.com/223sd9n2 87\n",
      "http://638ca12d-ba2f-451c-8418-faf56b7de7ff.htmlcomponentservice.com/get_draft?id=638ca1_14694f4a84161543466426a12288de1a.html 88\n",
      "https://l.ead.me/bfIoHN 89\n",
      "https://terozrwaleutt.gitbook.io/us 90\n",
      "https://cuieenbsesigin.gitbook.io/us 91\n",
      "https://nftstorage.link/ipfs/QmZJDWrczHwFwmtww41oDKbfHjTqiCsPXWXhv1ytWrVcYC/emaillogin.html 92\n",
      "https://qrco.de/bfGdxy 93\n",
      "https://uyjcvwlraekctukxghfdfqegkjwdyldjhm.teemill.com/ 94\n",
      "https://docs.google.com/presentation/d/e/2PACX-1vQn03o78OOJqfg9wuO5Jc6EPNXZgvZahucr7XaeX5LMhHs43kIs2zV2qK1v7Mska_woaUHyZWEnl3DV/pub?start=false&loop=false&delayms=3000&slide=id.p 95\n",
      "https://allegrolokalnie.0x2-51iva.pl/oferta/26042948-1cc9-46f5-a82f-db7a4736589b 96\n",
      "https://bafybeic6xofhgzln7ecrselsi6ugpzqnyepatheuxiil362sgca4o5f6ei.ipfs.cf-ipfs.com/ 97\n",
      "https://bit.ly/4fdYO72 98\n",
      "https://hk.wanlning.vip/ 99\n"
     ]
    }
   ],
   "source": [
    "#Extracting the feautres & storing them in a list\n",
    "phish_features = []\n",
    "label = 1\n",
    "for i in range(0, 100):\n",
    "  url = phishurl['url'][i]\n",
    "  print(url,i)\n",
    "  phish_features.append(featureExtraction(url,label))\n",
    "     "
   ]
  },
  {
   "cell_type": "code",
   "execution_count": 226,
   "id": "3b9fc359-c740-41f2-a788-5c203fbca2c6",
   "metadata": {},
   "outputs": [
    {
     "data": {
      "text/html": [
       "<div>\n",
       "<style scoped>\n",
       "    .dataframe tbody tr th:only-of-type {\n",
       "        vertical-align: middle;\n",
       "    }\n",
       "\n",
       "    .dataframe tbody tr th {\n",
       "        vertical-align: top;\n",
       "    }\n",
       "\n",
       "    .dataframe thead th {\n",
       "        text-align: right;\n",
       "    }\n",
       "</style>\n",
       "<table border=\"1\" class=\"dataframe\">\n",
       "  <thead>\n",
       "    <tr style=\"text-align: right;\">\n",
       "      <th></th>\n",
       "      <th>Domain</th>\n",
       "      <th>Have_IP</th>\n",
       "      <th>Have_At</th>\n",
       "      <th>URL_Length</th>\n",
       "      <th>URL_Depth</th>\n",
       "      <th>Redirection</th>\n",
       "      <th>https_Domain</th>\n",
       "      <th>TinyURL</th>\n",
       "      <th>Prefix/Suffix</th>\n",
       "      <th>DNS_Record</th>\n",
       "      <th>Web_Traffic</th>\n",
       "      <th>Domain_Age</th>\n",
       "      <th>Domain_End</th>\n",
       "      <th>iFrame</th>\n",
       "      <th>Mouse_Over</th>\n",
       "      <th>Right_Click</th>\n",
       "      <th>Web_Forwards</th>\n",
       "      <th>Label</th>\n",
       "    </tr>\n",
       "  </thead>\n",
       "  <tbody>\n",
       "    <tr>\n",
       "      <th>0</th>\n",
       "      <td>telegra.ph</td>\n",
       "      <td>0</td>\n",
       "      <td>0</td>\n",
       "      <td>0</td>\n",
       "      <td>1</td>\n",
       "      <td>0</td>\n",
       "      <td>0</td>\n",
       "      <td>0</td>\n",
       "      <td>0</td>\n",
       "      <td>1</td>\n",
       "      <td>1</td>\n",
       "      <td>1</td>\n",
       "      <td>1</td>\n",
       "      <td>1</td>\n",
       "      <td>1</td>\n",
       "      <td>1</td>\n",
       "      <td>0</td>\n",
       "      <td>1</td>\n",
       "    </tr>\n",
       "    <tr>\n",
       "      <th>1</th>\n",
       "      <td>new.express.adobe.com</td>\n",
       "      <td>0</td>\n",
       "      <td>0</td>\n",
       "      <td>0</td>\n",
       "      <td>2</td>\n",
       "      <td>0</td>\n",
       "      <td>0</td>\n",
       "      <td>0</td>\n",
       "      <td>0</td>\n",
       "      <td>1</td>\n",
       "      <td>1</td>\n",
       "      <td>1</td>\n",
       "      <td>1</td>\n",
       "      <td>0</td>\n",
       "      <td>1</td>\n",
       "      <td>1</td>\n",
       "      <td>0</td>\n",
       "      <td>1</td>\n",
       "    </tr>\n",
       "    <tr>\n",
       "      <th>2</th>\n",
       "      <td>suall4ss.top</td>\n",
       "      <td>0</td>\n",
       "      <td>0</td>\n",
       "      <td>0</td>\n",
       "      <td>0</td>\n",
       "      <td>0</td>\n",
       "      <td>0</td>\n",
       "      <td>0</td>\n",
       "      <td>0</td>\n",
       "      <td>1</td>\n",
       "      <td>1</td>\n",
       "      <td>1</td>\n",
       "      <td>1</td>\n",
       "      <td>1</td>\n",
       "      <td>1</td>\n",
       "      <td>1</td>\n",
       "      <td>1</td>\n",
       "      <td>1</td>\n",
       "    </tr>\n",
       "    <tr>\n",
       "      <th>3</th>\n",
       "      <td>jawatan-kosong.foie.site</td>\n",
       "      <td>0</td>\n",
       "      <td>0</td>\n",
       "      <td>1</td>\n",
       "      <td>2</td>\n",
       "      <td>0</td>\n",
       "      <td>0</td>\n",
       "      <td>0</td>\n",
       "      <td>1</td>\n",
       "      <td>1</td>\n",
       "      <td>1</td>\n",
       "      <td>1</td>\n",
       "      <td>1</td>\n",
       "      <td>1</td>\n",
       "      <td>1</td>\n",
       "      <td>1</td>\n",
       "      <td>1</td>\n",
       "      <td>1</td>\n",
       "    </tr>\n",
       "    <tr>\n",
       "      <th>4</th>\n",
       "      <td>docs.google.com</td>\n",
       "      <td>0</td>\n",
       "      <td>0</td>\n",
       "      <td>1</td>\n",
       "      <td>5</td>\n",
       "      <td>0</td>\n",
       "      <td>0</td>\n",
       "      <td>0</td>\n",
       "      <td>0</td>\n",
       "      <td>1</td>\n",
       "      <td>1</td>\n",
       "      <td>1</td>\n",
       "      <td>1</td>\n",
       "      <td>0</td>\n",
       "      <td>1</td>\n",
       "      <td>1</td>\n",
       "      <td>0</td>\n",
       "      <td>1</td>\n",
       "    </tr>\n",
       "  </tbody>\n",
       "</table>\n",
       "</div>"
      ],
      "text/plain": [
       "                     Domain  Have_IP  Have_At  URL_Length  URL_Depth  \\\n",
       "0                telegra.ph        0        0           0          1   \n",
       "1     new.express.adobe.com        0        0           0          2   \n",
       "2              suall4ss.top        0        0           0          0   \n",
       "3  jawatan-kosong.foie.site        0        0           1          2   \n",
       "4           docs.google.com        0        0           1          5   \n",
       "\n",
       "   Redirection  https_Domain  TinyURL  Prefix/Suffix  DNS_Record  Web_Traffic  \\\n",
       "0            0             0        0              0           1            1   \n",
       "1            0             0        0              0           1            1   \n",
       "2            0             0        0              0           1            1   \n",
       "3            0             0        0              1           1            1   \n",
       "4            0             0        0              0           1            1   \n",
       "\n",
       "   Domain_Age  Domain_End  iFrame  Mouse_Over  Right_Click  Web_Forwards  \\\n",
       "0           1           1       1           1            1             0   \n",
       "1           1           1       0           1            1             0   \n",
       "2           1           1       1           1            1             1   \n",
       "3           1           1       1           1            1             1   \n",
       "4           1           1       0           1            1             0   \n",
       "\n",
       "   Label  \n",
       "0      1  \n",
       "1      1  \n",
       "2      1  \n",
       "3      1  \n",
       "4      1  "
      ]
     },
     "execution_count": 226,
     "metadata": {},
     "output_type": "execute_result"
    }
   ],
   "source": [
    "feature_names = ['Domain', 'Have_IP', 'Have_At', 'URL_Length', 'URL_Depth','Redirection', \n",
    "                      'https_Domain', 'TinyURL', 'Prefix/Suffix', 'DNS_Record', 'Web_Traffic', \n",
    "                      'Domain_Age', 'Domain_End', 'iFrame', 'Mouse_Over','Right_Click', 'Web_Forwards', 'Label']\n",
    "\n",
    "legitimate = pd.DataFrame(phish_features, columns= feature_names)\n",
    "legitimate.head()"
   ]
  }
 ],
 "metadata": {
  "kernelspec": {
   "display_name": "Python 3 (ipykernel)",
   "language": "python",
   "name": "python3"
  },
  "language_info": {
   "codemirror_mode": {
    "name": "ipython",
    "version": 3
   },
   "file_extension": ".py",
   "mimetype": "text/x-python",
   "name": "python",
   "nbconvert_exporter": "python",
   "pygments_lexer": "ipython3",
   "version": "3.12.2"
  }
 },
 "nbformat": 4,
 "nbformat_minor": 5
}
