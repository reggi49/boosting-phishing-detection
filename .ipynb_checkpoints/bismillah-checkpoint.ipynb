{
 "cells": [
  {
   "cell_type": "code",
   "execution_count": 2,
   "id": "5b284c32-bd7f-4246-aa86-43198fb51abd",
   "metadata": {
    "scrolled": true
   },
   "outputs": [
    {
     "name": "stdout",
     "output_type": "stream",
     "text": [
      "XGB Version          :  2.1.2\n",
      "Scikit-Learn Version :  1.4.2\n"
     ]
    }
   ],
   "source": [
    "import pandas as pd\n",
    "import numpy as np\n",
    "import wget\n",
    "\n",
    "import matplotlib.pyplot as plt\n",
    "\n",
    "import warnings\n",
    "\n",
    "warnings.filterwarnings(\"ignore\")\n",
    "pd.set_option(\"display.max_columns\", 50)\n",
    "\n",
    "import xgboost as xgb\n",
    "import sklearn\n",
    "\n",
    "print(\"XGB Version          : \", xgb.__version__)\n",
    "print(\"Scikit-Learn Version : \", sklearn.__version__)"
   ]
  },
  {
   "cell_type": "code",
   "execution_count": 3,
   "id": "894408ba-eea0-45d9-a5df-baeb4b1bcb7c",
   "metadata": {},
   "outputs": [
    {
     "data": {
      "text/html": [
       "<div>\n",
       "<style scoped>\n",
       "    .dataframe tbody tr th:only-of-type {\n",
       "        vertical-align: middle;\n",
       "    }\n",
       "\n",
       "    .dataframe tbody tr th {\n",
       "        vertical-align: top;\n",
       "    }\n",
       "\n",
       "    .dataframe thead th {\n",
       "        text-align: right;\n",
       "    }\n",
       "</style>\n",
       "<table border=\"1\" class=\"dataframe\">\n",
       "  <thead>\n",
       "    <tr style=\"text-align: right;\">\n",
       "      <th></th>\n",
       "      <th>phish_id</th>\n",
       "      <th>url</th>\n",
       "      <th>phish_detail_url</th>\n",
       "      <th>submission_time</th>\n",
       "      <th>verified</th>\n",
       "      <th>verification_time</th>\n",
       "      <th>online</th>\n",
       "      <th>target</th>\n",
       "    </tr>\n",
       "  </thead>\n",
       "  <tbody>\n",
       "    <tr>\n",
       "      <th>0</th>\n",
       "      <td>8855181</td>\n",
       "      <td>https://sparkflaretrust.com/connect.html</td>\n",
       "      <td>http://www.phishtank.com/phish_detail.php?phis...</td>\n",
       "      <td>2024-11-16T03:46:02+00:00</td>\n",
       "      <td>yes</td>\n",
       "      <td>2024-11-16T03:52:29+00:00</td>\n",
       "      <td>yes</td>\n",
       "      <td>Other</td>\n",
       "    </tr>\n",
       "    <tr>\n",
       "      <th>1</th>\n",
       "      <td>8855180</td>\n",
       "      <td>https://llltreuirzleeno.webflow.io/</td>\n",
       "      <td>http://www.phishtank.com/phish_detail.php?phis...</td>\n",
       "      <td>2024-11-16T03:37:15+00:00</td>\n",
       "      <td>yes</td>\n",
       "      <td>2024-11-16T03:52:29+00:00</td>\n",
       "      <td>yes</td>\n",
       "      <td>Other</td>\n",
       "    </tr>\n",
       "    <tr>\n",
       "      <th>2</th>\n",
       "      <td>8855179</td>\n",
       "      <td>http://llltreuirzleeno.webflow.io</td>\n",
       "      <td>http://www.phishtank.com/phish_detail.php?phis...</td>\n",
       "      <td>2024-11-16T03:37:14+00:00</td>\n",
       "      <td>yes</td>\n",
       "      <td>2024-11-16T03:52:29+00:00</td>\n",
       "      <td>yes</td>\n",
       "      <td>Other</td>\n",
       "    </tr>\n",
       "    <tr>\n",
       "      <th>3</th>\n",
       "      <td>8855176</td>\n",
       "      <td>http://hubtrezorstart.webflow.io</td>\n",
       "      <td>http://www.phishtank.com/phish_detail.php?phis...</td>\n",
       "      <td>2024-11-16T03:32:28+00:00</td>\n",
       "      <td>yes</td>\n",
       "      <td>2024-11-16T03:52:29+00:00</td>\n",
       "      <td>yes</td>\n",
       "      <td>Other</td>\n",
       "    </tr>\n",
       "    <tr>\n",
       "      <th>4</th>\n",
       "      <td>8855177</td>\n",
       "      <td>https://hubtrezorstart.webflow.io/</td>\n",
       "      <td>http://www.phishtank.com/phish_detail.php?phis...</td>\n",
       "      <td>2024-11-16T03:32:28+00:00</td>\n",
       "      <td>yes</td>\n",
       "      <td>2024-11-16T03:52:29+00:00</td>\n",
       "      <td>yes</td>\n",
       "      <td>Other</td>\n",
       "    </tr>\n",
       "  </tbody>\n",
       "</table>\n",
       "</div>"
      ],
      "text/plain": [
       "   phish_id                                       url  \\\n",
       "0   8855181  https://sparkflaretrust.com/connect.html   \n",
       "1   8855180       https://llltreuirzleeno.webflow.io/   \n",
       "2   8855179         http://llltreuirzleeno.webflow.io   \n",
       "3   8855176          http://hubtrezorstart.webflow.io   \n",
       "4   8855177        https://hubtrezorstart.webflow.io/   \n",
       "\n",
       "                                    phish_detail_url  \\\n",
       "0  http://www.phishtank.com/phish_detail.php?phis...   \n",
       "1  http://www.phishtank.com/phish_detail.php?phis...   \n",
       "2  http://www.phishtank.com/phish_detail.php?phis...   \n",
       "3  http://www.phishtank.com/phish_detail.php?phis...   \n",
       "4  http://www.phishtank.com/phish_detail.php?phis...   \n",
       "\n",
       "             submission_time verified          verification_time online target  \n",
       "0  2024-11-16T03:46:02+00:00      yes  2024-11-16T03:52:29+00:00    yes  Other  \n",
       "1  2024-11-16T03:37:15+00:00      yes  2024-11-16T03:52:29+00:00    yes  Other  \n",
       "2  2024-11-16T03:37:14+00:00      yes  2024-11-16T03:52:29+00:00    yes  Other  \n",
       "3  2024-11-16T03:32:28+00:00      yes  2024-11-16T03:52:29+00:00    yes  Other  \n",
       "4  2024-11-16T03:32:28+00:00      yes  2024-11-16T03:52:29+00:00    yes  Other  "
      ]
     },
     "execution_count": 3,
     "metadata": {},
     "output_type": "execute_result"
    }
   ],
   "source": [
    "data0 = pd.read_csv(\"verified_online.csv\")\n",
    "data0.head()"
   ]
  },
  {
   "cell_type": "code",
   "execution_count": 4,
   "id": "f3744ee6-c259-4eae-8a49-aee2ab381349",
   "metadata": {},
   "outputs": [
    {
     "data": {
      "text/plain": [
       "(67678, 8)"
      ]
     },
     "execution_count": 4,
     "metadata": {},
     "output_type": "execute_result"
    }
   ],
   "source": [
    "data0.shape\n"
   ]
  },
  {
   "cell_type": "code",
   "execution_count": 5,
   "id": "c494d9b4-e779-454d-be86-c1d40dd8a087",
   "metadata": {},
   "outputs": [
    {
     "data": {
      "text/html": [
       "<div>\n",
       "<style scoped>\n",
       "    .dataframe tbody tr th:only-of-type {\n",
       "        vertical-align: middle;\n",
       "    }\n",
       "\n",
       "    .dataframe tbody tr th {\n",
       "        vertical-align: top;\n",
       "    }\n",
       "\n",
       "    .dataframe thead th {\n",
       "        text-align: right;\n",
       "    }\n",
       "</style>\n",
       "<table border=\"1\" class=\"dataframe\">\n",
       "  <thead>\n",
       "    <tr style=\"text-align: right;\">\n",
       "      <th></th>\n",
       "      <th>phish_id</th>\n",
       "      <th>url</th>\n",
       "      <th>phish_detail_url</th>\n",
       "      <th>submission_time</th>\n",
       "      <th>verified</th>\n",
       "      <th>verification_time</th>\n",
       "      <th>online</th>\n",
       "      <th>target</th>\n",
       "    </tr>\n",
       "  </thead>\n",
       "  <tbody>\n",
       "    <tr>\n",
       "      <th>0</th>\n",
       "      <td>8717279</td>\n",
       "      <td>https://telegra.ph/BT-Business-Communications-...</td>\n",
       "      <td>http://www.phishtank.com/phish_detail.php?phis...</td>\n",
       "      <td>2024-08-16T15:47:59+00:00</td>\n",
       "      <td>yes</td>\n",
       "      <td>2024-08-16T15:53:35+00:00</td>\n",
       "      <td>yes</td>\n",
       "      <td>Other</td>\n",
       "    </tr>\n",
       "    <tr>\n",
       "      <th>1</th>\n",
       "      <td>8376431</td>\n",
       "      <td>https://new.express.adobe.com/webpage/pZDKTv9g...</td>\n",
       "      <td>http://www.phishtank.com/phish_detail.php?phis...</td>\n",
       "      <td>2023-11-27T15:31:47+00:00</td>\n",
       "      <td>yes</td>\n",
       "      <td>2023-11-27T15:43:19+00:00</td>\n",
       "      <td>yes</td>\n",
       "      <td>Other</td>\n",
       "    </tr>\n",
       "    <tr>\n",
       "      <th>2</th>\n",
       "      <td>8831188</td>\n",
       "      <td>http://suall4ss.top</td>\n",
       "      <td>http://www.phishtank.com/phish_detail.php?phis...</td>\n",
       "      <td>2024-11-01T19:50:22+00:00</td>\n",
       "      <td>yes</td>\n",
       "      <td>2024-11-01T20:02:24+00:00</td>\n",
       "      <td>yes</td>\n",
       "      <td>Other</td>\n",
       "    </tr>\n",
       "    <tr>\n",
       "      <th>3</th>\n",
       "      <td>8836530</td>\n",
       "      <td>https://jawatan-kosong.foie.site/04fe663632581...</td>\n",
       "      <td>http://www.phishtank.com/phish_detail.php?phis...</td>\n",
       "      <td>2024-11-06T12:02:16+00:00</td>\n",
       "      <td>yes</td>\n",
       "      <td>2024-11-08T08:51:47+00:00</td>\n",
       "      <td>yes</td>\n",
       "      <td>Other</td>\n",
       "    </tr>\n",
       "    <tr>\n",
       "      <th>4</th>\n",
       "      <td>8468077</td>\n",
       "      <td>https://docs.google.com/presentation/d/e/2PACX...</td>\n",
       "      <td>http://www.phishtank.com/phish_detail.php?phis...</td>\n",
       "      <td>2024-02-26T23:11:40+00:00</td>\n",
       "      <td>yes</td>\n",
       "      <td>2024-02-27T10:42:55+00:00</td>\n",
       "      <td>yes</td>\n",
       "      <td>Other</td>\n",
       "    </tr>\n",
       "  </tbody>\n",
       "</table>\n",
       "</div>"
      ],
      "text/plain": [
       "   phish_id                                                url  \\\n",
       "0   8717279  https://telegra.ph/BT-Business-Communications-...   \n",
       "1   8376431  https://new.express.adobe.com/webpage/pZDKTv9g...   \n",
       "2   8831188                                http://suall4ss.top   \n",
       "3   8836530  https://jawatan-kosong.foie.site/04fe663632581...   \n",
       "4   8468077  https://docs.google.com/presentation/d/e/2PACX...   \n",
       "\n",
       "                                    phish_detail_url  \\\n",
       "0  http://www.phishtank.com/phish_detail.php?phis...   \n",
       "1  http://www.phishtank.com/phish_detail.php?phis...   \n",
       "2  http://www.phishtank.com/phish_detail.php?phis...   \n",
       "3  http://www.phishtank.com/phish_detail.php?phis...   \n",
       "4  http://www.phishtank.com/phish_detail.php?phis...   \n",
       "\n",
       "             submission_time verified          verification_time online target  \n",
       "0  2024-08-16T15:47:59+00:00      yes  2024-08-16T15:53:35+00:00    yes  Other  \n",
       "1  2023-11-27T15:31:47+00:00      yes  2023-11-27T15:43:19+00:00    yes  Other  \n",
       "2  2024-11-01T19:50:22+00:00      yes  2024-11-01T20:02:24+00:00    yes  Other  \n",
       "3  2024-11-06T12:02:16+00:00      yes  2024-11-08T08:51:47+00:00    yes  Other  \n",
       "4  2024-02-26T23:11:40+00:00      yes  2024-02-27T10:42:55+00:00    yes  Other  "
      ]
     },
     "execution_count": 5,
     "metadata": {},
     "output_type": "execute_result"
    }
   ],
   "source": [
    "phishurl = data0.sample(n = 5000, random_state = 12).copy()\n",
    "phishurl = phishurl.reset_index(drop=True)\n",
    "phishurl.head()"
   ]
  },
  {
   "cell_type": "code",
   "execution_count": 6,
   "id": "32f14f1d-b62d-4ebb-b69c-67927dda1d8f",
   "metadata": {},
   "outputs": [
    {
     "data": {
      "text/plain": [
       "(5000, 8)"
      ]
     },
     "execution_count": 6,
     "metadata": {},
     "output_type": "execute_result"
    }
   ],
   "source": [
    "phishurl.shape"
   ]
  },
  {
   "cell_type": "code",
   "execution_count": 7,
   "id": "3a477e17-a0b0-468f-8569-9a916a0ae440",
   "metadata": {},
   "outputs": [
    {
     "data": {
      "text/html": [
       "<div>\n",
       "<style scoped>\n",
       "    .dataframe tbody tr th:only-of-type {\n",
       "        vertical-align: middle;\n",
       "    }\n",
       "\n",
       "    .dataframe tbody tr th {\n",
       "        vertical-align: top;\n",
       "    }\n",
       "\n",
       "    .dataframe thead th {\n",
       "        text-align: right;\n",
       "    }\n",
       "</style>\n",
       "<table border=\"1\" class=\"dataframe\">\n",
       "  <thead>\n",
       "    <tr style=\"text-align: right;\">\n",
       "      <th></th>\n",
       "      <th>URLs</th>\n",
       "    </tr>\n",
       "  </thead>\n",
       "  <tbody>\n",
       "    <tr>\n",
       "      <th>0</th>\n",
       "      <td>http://1337x.to/torrent/1110018/Blackhat-2015-...</td>\n",
       "    </tr>\n",
       "    <tr>\n",
       "      <th>1</th>\n",
       "      <td>http://1337x.to/torrent/1122940/Blackhat-2015-...</td>\n",
       "    </tr>\n",
       "    <tr>\n",
       "      <th>2</th>\n",
       "      <td>http://1337x.to/torrent/1124395/Fast-and-Furio...</td>\n",
       "    </tr>\n",
       "    <tr>\n",
       "      <th>3</th>\n",
       "      <td>http://1337x.to/torrent/1145504/Avengers-Age-o...</td>\n",
       "    </tr>\n",
       "    <tr>\n",
       "      <th>4</th>\n",
       "      <td>http://1337x.to/torrent/1160078/Avengers-age-o...</td>\n",
       "    </tr>\n",
       "  </tbody>\n",
       "</table>\n",
       "</div>"
      ],
      "text/plain": [
       "                                                URLs\n",
       "0  http://1337x.to/torrent/1110018/Blackhat-2015-...\n",
       "1  http://1337x.to/torrent/1122940/Blackhat-2015-...\n",
       "2  http://1337x.to/torrent/1124395/Fast-and-Furio...\n",
       "3  http://1337x.to/torrent/1145504/Avengers-Age-o...\n",
       "4  http://1337x.to/torrent/1160078/Avengers-age-o..."
      ]
     },
     "execution_count": 7,
     "metadata": {},
     "output_type": "execute_result"
    }
   ],
   "source": [
    "#legitimate URL\n",
    "data1 = pd.read_csv(\"Benign_list_big_final.csv\")\n",
    "data1.columns = ['URLs']\n",
    "data1.head()"
   ]
  },
  {
   "cell_type": "code",
   "execution_count": 8,
   "id": "ccc93c94-df6b-4d32-9ed7-d4044d6feab9",
   "metadata": {},
   "outputs": [
    {
     "data": {
      "text/html": [
       "<div>\n",
       "<style scoped>\n",
       "    .dataframe tbody tr th:only-of-type {\n",
       "        vertical-align: middle;\n",
       "    }\n",
       "\n",
       "    .dataframe tbody tr th {\n",
       "        vertical-align: top;\n",
       "    }\n",
       "\n",
       "    .dataframe thead th {\n",
       "        text-align: right;\n",
       "    }\n",
       "</style>\n",
       "<table border=\"1\" class=\"dataframe\">\n",
       "  <thead>\n",
       "    <tr style=\"text-align: right;\">\n",
       "      <th></th>\n",
       "      <th>URLs</th>\n",
       "    </tr>\n",
       "  </thead>\n",
       "  <tbody>\n",
       "    <tr>\n",
       "      <th>0</th>\n",
       "      <td>http://graphicriver.net/search?date=this-month...</td>\n",
       "    </tr>\n",
       "    <tr>\n",
       "      <th>1</th>\n",
       "      <td>http://ecnavi.jp/redirect/?url=http://www.cros...</td>\n",
       "    </tr>\n",
       "    <tr>\n",
       "      <th>2</th>\n",
       "      <td>https://hubpages.com/signin?explain=follow+Hub...</td>\n",
       "    </tr>\n",
       "    <tr>\n",
       "      <th>3</th>\n",
       "      <td>http://extratorrent.cc/torrent/4190536/AOMEI+B...</td>\n",
       "    </tr>\n",
       "    <tr>\n",
       "      <th>4</th>\n",
       "      <td>http://icicibank.com/Personal-Banking/offers/o...</td>\n",
       "    </tr>\n",
       "  </tbody>\n",
       "</table>\n",
       "</div>"
      ],
      "text/plain": [
       "                                                URLs\n",
       "0  http://graphicriver.net/search?date=this-month...\n",
       "1  http://ecnavi.jp/redirect/?url=http://www.cros...\n",
       "2  https://hubpages.com/signin?explain=follow+Hub...\n",
       "3  http://extratorrent.cc/torrent/4190536/AOMEI+B...\n",
       "4  http://icicibank.com/Personal-Banking/offers/o..."
      ]
     },
     "execution_count": 8,
     "metadata": {},
     "output_type": "execute_result"
    }
   ],
   "source": [
    "legiurl = data1.sample(n = 5000, random_state = 12).copy()\n",
    "legiurl = legiurl.reset_index(drop=True)\n",
    "legiurl.head()"
   ]
  },
  {
   "cell_type": "code",
   "execution_count": 9,
   "id": "d28e465b-7127-4a2c-bf64-0f6c7ef446b5",
   "metadata": {},
   "outputs": [
    {
     "data": {
      "text/plain": [
       "(5000, 1)"
      ]
     },
     "execution_count": 9,
     "metadata": {},
     "output_type": "execute_result"
    }
   ],
   "source": [
    "legiurl.shape\n"
   ]
  },
  {
   "cell_type": "code",
   "execution_count": 10,
   "id": "af94bce7-0888-496b-a175-11549eb0a930",
   "metadata": {},
   "outputs": [],
   "source": [
    "# importing required packages for this section\n",
    "from urllib.parse import urlparse,urlencode\n",
    "import ipaddress\n",
    "import re"
   ]
  },
  {
   "cell_type": "code",
   "execution_count": 11,
   "id": "7edf2265-d152-4410-a405-308fc04c828d",
   "metadata": {},
   "outputs": [],
   "source": [
    "# 1.Domain of the URL (Domain) \n",
    "def getDomain(url):  \n",
    "  domain = urlparse(url).netloc\n",
    "  if re.match(r\"^www.\",domain):\n",
    "\t       domain = domain.replace(\"www.\",\"\")\n",
    "  return domain"
   ]
  },
  {
   "cell_type": "code",
   "execution_count": 12,
   "id": "a7dbf169-4767-4f6f-8d52-f439a70fb6f1",
   "metadata": {},
   "outputs": [],
   "source": [
    "# 2.Checks for IP address in URL (Have_IP)\n",
    "def havingIP(url):\n",
    "  try:\n",
    "    ipaddress.ip_address(url)\n",
    "    ip = 1\n",
    "  except:\n",
    "    ip = 0\n",
    "  return ip"
   ]
  },
  {
   "cell_type": "code",
   "execution_count": 13,
   "id": "f56e2fd7-2531-467d-812b-4bbfdf4c09be",
   "metadata": {},
   "outputs": [],
   "source": [
    "# 3.Checks the presence of @ in URL (Have_At)\n",
    "def haveAtSign(url):\n",
    "  if \"@\" in url:\n",
    "    at = 1    \n",
    "  else:\n",
    "    at = 0    \n",
    "  return at"
   ]
  },
  {
   "cell_type": "code",
   "execution_count": 14,
   "id": "afd4fcf8-7f98-490d-a0e2-26f843ef5249",
   "metadata": {},
   "outputs": [],
   "source": [
    "# 4.Finding the length of URL and categorizing (URL_Length)\n",
    "def getLength(url):\n",
    "  if len(url) < 54:\n",
    "    length = 0            \n",
    "  else:\n",
    "    length = 1            \n",
    "  return length"
   ]
  },
  {
   "cell_type": "code",
   "execution_count": 15,
   "id": "35f28920-63be-4135-b835-22d20560eee7",
   "metadata": {},
   "outputs": [],
   "source": [
    "# 5.Gives number of '/' in URL (URL_Depth)\n",
    "def getDepth(url):\n",
    "  s = urlparse(url).path.split('/')\n",
    "  depth = 0\n",
    "  for j in range(len(s)):\n",
    "    if len(s[j]) != 0:\n",
    "      depth = depth+1\n",
    "  return depth"
   ]
  },
  {
   "cell_type": "code",
   "execution_count": 16,
   "id": "a03a9310-98db-4b00-ac03-a926b0c058b2",
   "metadata": {},
   "outputs": [],
   "source": [
    "# 6.Checking for redirection '//' in the url (Redirection)\n",
    "def redirection(url):\n",
    "  pos = url.rfind('//')\n",
    "  if pos > 6:\n",
    "    if pos > 7:\n",
    "      return 1\n",
    "    else:\n",
    "      return 0\n",
    "  else:\n",
    "    return 0"
   ]
  },
  {
   "cell_type": "code",
   "execution_count": 17,
   "id": "6a1d95ef-2d57-4d9d-8e56-e2308f2e5405",
   "metadata": {},
   "outputs": [],
   "source": [
    "# 7.Existence of “HTTPS” Token in the Domain Part of the URL (https_Domain)\n",
    "def httpDomain(url):\n",
    "  domain = urlparse(url).netloc\n",
    "  if 'https' in domain:\n",
    "    return 1\n",
    "  else:\n",
    "    return 0"
   ]
  },
  {
   "cell_type": "code",
   "execution_count": 18,
   "id": "78a2f1ff-afdd-48b1-b943-64c4aac01540",
   "metadata": {},
   "outputs": [],
   "source": [
    "#listing shortening services\n",
    "shortening_services = r\"bit\\.ly|goo\\.gl|shorte\\.st|go2l\\.ink|x\\.co|ow\\.ly|t\\.co|tinyurl|tr\\.im|is\\.gd|cli\\.gs|\" \\\n",
    "                      r\"yfrog\\.com|migre\\.me|ff\\.im|tiny\\.cc|url4\\.eu|twit\\.ac|su\\.pr|twurl\\.nl|snipurl\\.com|\" \\\n",
    "                      r\"short\\.to|BudURL\\.com|ping\\.fm|post\\.ly|Just\\.as|bkite\\.com|snipr\\.com|fic\\.kr|loopt\\.us|\" \\\n",
    "                      r\"doiop\\.com|short\\.ie|kl\\.am|wp\\.me|rubyurl\\.com|om\\.ly|to\\.ly|bit\\.do|t\\.co|lnkd\\.in|db\\.tt|\" \\\n",
    "                      r\"qr\\.ae|adf\\.ly|goo\\.gl|bitly\\.com|cur\\.lv|tinyurl\\.com|ow\\.ly|bit\\.ly|ity\\.im|q\\.gs|is\\.gd|\" \\\n",
    "                      r\"po\\.st|bc\\.vc|twitthis\\.com|u\\.to|j\\.mp|buzurl\\.com|cutt\\.us|u\\.bb|yourls\\.org|x\\.co|\" \\\n",
    "                      r\"prettylinkpro\\.com|scrnch\\.me|filoops\\.info|vzturl\\.com|qr\\.net|1url\\.com|tweez\\.me|v\\.gd|\" \\\n",
    "                      r\"tr\\.im|link\\.zip\\.net\""
   ]
  },
  {
   "cell_type": "code",
   "execution_count": 19,
   "id": "7aa8809a-474b-41c2-8b16-d8e981b214a3",
   "metadata": {},
   "outputs": [],
   "source": [
    "# 8. Checking for Shortening Services in URL (Tiny_URL)\n",
    "def tinyURL(url):\n",
    "    match=re.search(shortening_services,url)\n",
    "    if match:\n",
    "        return 1\n",
    "    else:\n",
    "        return 0"
   ]
  },
  {
   "cell_type": "code",
   "execution_count": 20,
   "id": "5245feb0-4c7d-4b66-bf01-8a20810ee2ff",
   "metadata": {},
   "outputs": [],
   "source": [
    "# 9.Checking for Prefix or Suffix Separated by (-) in the Domain (Prefix/Suffix)\n",
    "def prefixSuffix(url):\n",
    "    if '-' in urlparse(url).netloc:\n",
    "        return 1            # phishing\n",
    "    else:\n",
    "        return 0            # legitimate\n",
    "     "
   ]
  },
  {
   "cell_type": "code",
   "execution_count": 21,
   "id": "b79630e4-6de3-4d8c-a911-763664dcf370",
   "metadata": {},
   "outputs": [
    {
     "name": "stdout",
     "output_type": "stream",
     "text": [
      "Requirement already satisfied: python-whois in /opt/anaconda3/lib/python3.12/site-packages (0.9.5)\n",
      "Requirement already satisfied: python-dateutil in /opt/anaconda3/lib/python3.12/site-packages (from python-whois) (2.9.0.post0)\n",
      "Requirement already satisfied: six>=1.5 in /opt/anaconda3/lib/python3.12/site-packages (from python-dateutil->python-whois) (1.16.0)\n"
     ]
    }
   ],
   "source": [
    "!pip install python-whois\n"
   ]
  },
  {
   "cell_type": "code",
   "execution_count": 22,
   "id": "fdd94185-1597-438f-a28c-6dbea2a9cc71",
   "metadata": {},
   "outputs": [],
   "source": [
    "# importing required packages for this section\n",
    "import re\n",
    "from bs4 import BeautifulSoup\n",
    "import whois\n",
    "import urllib\n",
    "import urllib.request\n",
    "import csv\n",
    "from datetime import datetime\n"
   ]
  },
  {
   "cell_type": "code",
   "execution_count": 23,
   "id": "7fbad1c5-7f51-4508-9d56-522bdd6766b2",
   "metadata": {},
   "outputs": [],
   "source": [
    "# 11.DNS Record availability (DNS_Record)\n",
    "# obtained in the featureExtraction function itself"
   ]
  },
  {
   "cell_type": "code",
   "execution_count": 24,
   "id": "68d7c4a7-1670-44f1-bc82-2d8acf305cf4",
   "metadata": {},
   "outputs": [],
   "source": [
    "def web_traffic(url, csv_file):\n",
    "  # Read CSV data into a dictionary for efficient lookup\n",
    "  rank_data = {}\n",
    "  try:\n",
    "      with open(csv_file, 'r') as csvfile:\n",
    "          reader = csv.reader(csvfile)\n",
    "          for row in reader:\n",
    "              if len(row) >= 2:\n",
    "                  rank_data[row[1]] = int(row[0])\n",
    "              else:\n",
    "                  print(f\"Warning: Invalid row in CSV: {row}\")\n",
    "  except FileNotFoundError:\n",
    "      print(f\"CSV file not found: {csv_file}\")\n",
    "      return 0\n",
    "  except csv.Error as e:\n",
    "      print(f\"Error reading CSV file: {e}\")\n",
    "      return 0\n",
    "\n",
    "  # Extract domain from URL\n",
    "  domain = url.split(\"//\")[1].split(\"/\")[0]\n",
    "\n",
    "  # Check if domain exists in the CSV\n",
    "  if domain in rank_data:\n",
    "      rank = rank_data[domain]\n",
    "      if rank < 100000:\n",
    "          return 1\n",
    "      else:\n",
    "          return 0\n",
    "  else:\n",
    "      # Domain not found in CSV, return 1 if rank is assumed to be low\n",
    "      return 1"
   ]
  },
  {
   "cell_type": "code",
   "execution_count": 25,
   "id": "5d976788-cc96-461f-9fd5-c55ad13d35c8",
   "metadata": {},
   "outputs": [],
   "source": [
    "# 12.Web traffic (Web_Traffic)\n",
    "def check_rank(url):\n",
    "  try:\n",
    "    #Filling the whitespaces in the URL if any\n",
    "    url = urllib.parse.quote(url)\n",
    "    rank = BeautifulSoup(urllib.request.urlopen(\"http://data.alexa.com/data?cli=10&dat=s&url=\" + url).read(), \"xml\").find(\n",
    "        \"REACH\")['RANK']\n",
    "    rank = int(rank)\n",
    "  except TypeError:\n",
    "        return 1\n",
    "  if rank <100000:\n",
    "    return 1\n",
    "  else:\n",
    "    return 0"
   ]
  },
  {
   "cell_type": "code",
   "execution_count": 26,
   "id": "1c738c62-54fb-4a13-bd5a-2ad3b1ef1a4f",
   "metadata": {},
   "outputs": [],
   "source": [
    "# 13.Survival time of domain: The difference between termination time and creation time (Domain_Age)  \n",
    "def domainAge(domain_name):\n",
    "  creation_date = domain_name.creation_date\n",
    "  expiration_date = domain_name.expiration_date\n",
    "  if (isinstance(creation_date,str) or isinstance(expiration_date,str)):\n",
    "    try:\n",
    "      creation_date = datetime.strptime(creation_date,'%Y-%m-%d')\n",
    "      expiration_date = datetime.strptime(expiration_date,\"%Y-%m-%d\")\n",
    "    except:\n",
    "      return 1\n",
    "  if ((expiration_date is None) or (creation_date is None)):\n",
    "      return 1\n",
    "  elif ((type(expiration_date) is list) or (type(creation_date) is list)):\n",
    "      return 1\n",
    "  else:\n",
    "    ageofdomain = abs((expiration_date - creation_date).days)\n",
    "    if ((ageofdomain/30) < 6):\n",
    "      age = 1\n",
    "    else:\n",
    "      age = 0\n",
    "  return age"
   ]
  },
  {
   "cell_type": "code",
   "execution_count": 35,
   "id": "75f7398b-7ceb-4be9-a877-18ff652b9aba",
   "metadata": {},
   "outputs": [],
   "source": [
    "# 14.End time of domain: The difference between termination time and current time (Domain_End) \n",
    "def domainEnd(domain_name):\n",
    "  expiration_date = domain_name.expiration_date\n",
    "  if isinstance(expiration_date,str):\n",
    "    try:\n",
    "      expiration_date = datetime.strptime(expiration_date,\"%Y-%m-%d\")\n",
    "    except:\n",
    "      return 1\n",
    "  if (expiration_date is None):\n",
    "      return 1\n",
    "  elif (type(expiration_date) is list):\n",
    "      return 1\n",
    "  else:\n",
    "    today = datetime.now()\n",
    "    end = abs((expiration_date - today).days)\n",
    "    if ((end/30) < 6):\n",
    "      end = 0\n",
    "    else:\n",
    "      end = 1\n",
    "  return end"
   ]
  },
  {
   "cell_type": "code",
   "execution_count": 27,
   "id": "642bcb49-e273-44b3-8409-cedf3efdec61",
   "metadata": {},
   "outputs": [],
   "source": [
    "#HTML and JavaScript based Features\n",
    "import requests"
   ]
  },
  {
   "cell_type": "code",
   "execution_count": 28,
   "id": "70683b27-0b55-4fa5-81bc-6f96f68f22b3",
   "metadata": {},
   "outputs": [],
   "source": [
    "# 16.Checks the effect of mouse over on status bar (Mouse_Over)\n",
    "def mouseOver(response): \n",
    "  if response == \"\" :\n",
    "    return 1\n",
    "  else:\n",
    "    if re.findall(\"\", response.text):\n",
    "      return 1\n",
    "    else:\n",
    "      return 0"
   ]
  },
  {
   "cell_type": "code",
   "execution_count": 29,
   "id": "f2236db8-3741-4131-b842-66bf5c96b8cc",
   "metadata": {},
   "outputs": [],
   "source": [
    "# 15. IFrame Redirection (iFrame)\n",
    "def iframe(response):\n",
    "  if response == \"\":\n",
    "      return 1\n",
    "  else:\n",
    "      if re.findall(r\"[|]\", response.text):\n",
    "          return 0\n",
    "      else:\n",
    "          return 1"
   ]
  },
  {
   "cell_type": "code",
   "execution_count": 30,
   "id": "1c6d26e6-06b7-443c-86d5-8afbaffa22a1",
   "metadata": {},
   "outputs": [],
   "source": [
    "# 17.Checks the status of the right click attribute (Right_Click)\n",
    "def rightClick(response):\n",
    "  if response == \"\":\n",
    "    return 1\n",
    "  else:\n",
    "    if re.findall(r\"event.button ?== ?2\", response.text):\n",
    "      return 0\n",
    "    else:\n",
    "      return 1"
   ]
  },
  {
   "cell_type": "code",
   "execution_count": 31,
   "id": "2e67d9ef-329f-4919-a4b9-8df3c389fe8f",
   "metadata": {},
   "outputs": [],
   "source": [
    "# 18.Checks the number of forwardings (Web_Forwards)    \n",
    "def forwarding(response):\n",
    "  if response == \"\":\n",
    "    return 1\n",
    "  else:\n",
    "    if len(response.history) <= 2:\n",
    "      return 0\n",
    "    else:\n",
    "      return 1"
   ]
  },
  {
   "cell_type": "code",
   "execution_count": 32,
   "id": "24b5c29a-0483-4aa3-b6d8-85f154450ba5",
   "metadata": {},
   "outputs": [],
   "source": [
    "#Function to extract features\n",
    "def featureExtraction(url,label):\n",
    "  print('url', url,'label', label)\n",
    "  features = []\n",
    "  #Address bar based features (10)\n",
    "  features.append(getDomain(url))\n",
    "  features.append(havingIP(url))\n",
    "  features.append(haveAtSign(url))\n",
    "  features.append(getLength(url))\n",
    "  features.append(getDepth(url))\n",
    "  features.append(redirection(url))\n",
    "  features.append(httpDomain(url))\n",
    "  features.append(tinyURL(url))\n",
    "  features.append(prefixSuffix(url))\n",
    "  \n",
    "  #Domain based features (4)\n",
    "  dns = 0\n",
    "  try:\n",
    "    domain_name = whois.whois(urlparse(url).netloc)\n",
    "  except:\n",
    "    dns = 1\n",
    "\n",
    "  features.append(dns)\n",
    "  # features.append(web_traffic(url))\n",
    "  features.append(web_traffic(url,'top-1m.csv'))\n",
    "  features.append(1 if dns == 1 else domainAge(domain_name))\n",
    "  features.append(1 if dns == 1 else domainEnd(domain_name))\n",
    "  \n",
    "  #HTML & Javascript based features (4)\n",
    "  try:\n",
    "    response = requests.get(url)  \n",
    "  except:\n",
    "    response = \"\"\n",
    "  features.append(iframe(response))\n",
    "  features.append(mouseOver(response))\n",
    "  features.append(rightClick(response))\n",
    "  features.append(forwarding(response))\n",
    "  features.append(label)\n",
    "  \n",
    "  return features"
   ]
  },
  {
   "cell_type": "code",
   "execution_count": 33,
   "id": "cdf78006-70d8-4d77-8e8e-93abe09e73de",
   "metadata": {},
   "outputs": [
    {
     "data": {
      "text/plain": [
       "(5000, 1)"
      ]
     },
     "execution_count": 33,
     "metadata": {},
     "output_type": "execute_result"
    }
   ],
   "source": [
    "#Legitimate URLs\n",
    "legiurl.shape"
   ]
  },
  {
   "cell_type": "code",
   "execution_count": null,
   "id": "14142421-6c8d-4f1c-9721-6e8f055e41ca",
   "metadata": {},
   "outputs": [
    {
     "name": "stdout",
     "output_type": "stream",
     "text": [
      "url http://graphicriver.net/search?date=this-month&length_max=&length_min=&price_max=&price_min=&rating_min=&sales=&sort=sales&term=&view=list label 0\n",
      "url http://ecnavi.jp/redirect/?url=http://www.cross-a.net/x.php?id=1845_3212_22061_26563&m=1004&pid=%user_id% label 0\n",
      "url https://hubpages.com/signin?explain=follow+Hubs&url=%2Fhub%2FComfort-Theories-of-Religion label 0\n",
      "url http://extratorrent.cc/torrent/4190536/AOMEI+Backupper+Technician+%2B+Server+Edition+2.8.0+%2B+Patch+%2B+Key+%2B+100%25+Working.html label 0\n",
      "url http://icicibank.com/Personal-Banking/offers/offer-detail.page?id=offer-ezeego-domestic-airtravel-20141407112611060 label 0\n",
      "url http://nypost.com/2015/05/07/us-indifference-leaves-saudis-partnering-with-terrorists/ label 0\n",
      "url http://kienthuc.net.vn/diem-thi/diem-chuan-dh-cong-nghe-giao-thong-van-tai-nam-2014-482407.html label 0\n"
     ]
    },
    {
     "name": "stderr",
     "output_type": "stream",
     "text": [
      "2024-11-18 22:01:01,140 - whois.whois - ERROR - Error trying to connect to socket: closing socket - [Errno 8] nodename nor servname provided, or not known\n"
     ]
    },
    {
     "name": "stdout",
     "output_type": "stream",
     "text": [
      "url http://thenextweb.com/in/2015/04/16/india-wants-a-neutral-web-and-facebooks-internet-org-cant-be-a-part-of-it/gtm.js label 0\n",
      "url http://tobogo.net/cdsb/board.php?board=greet&bm=view&no=5716&category=&auth=&page=1&search=&keyword=&recom= label 0\n",
      "url http://akhbarelyom.com/news/newdetails/411395/1/%D9%85%D8%AD%D8%A7%D9%81%D8%B8-%D8%A7%D9%84%D8%A8%D8%AD%D9%8A%D8%B1.html label 0\n",
      "url http://tunein.com/radio/Carolina-Mudcats-at-Myrtle-Beach-Pelicans-May-13-2015-p729095/15480783/ca-pub-1542925551861702/ProgramTopBanner label 0\n",
      "url https://tune.pk/video/6046458/canelo-vs-kirkland-highlights-hbo-world-championship-boxing label 0\n"
     ]
    },
    {
     "name": "stderr",
     "output_type": "stream",
     "text": [
      "2024-11-18 22:01:16,265 - whois.whois - ERROR - Error trying to connect to socket: closing socket - [Errno 8] nodename nor servname provided, or not known\n"
     ]
    },
    {
     "name": "stdout",
     "output_type": "stream",
     "text": [
      "url http://sfglobe.com/2015/05/01/six-baltimore-police-officers-charged-in-freddie-grays-death/?src=home_feed label 0\n",
      "url http://mic.com/articles/107372/49-tremendous-things-florida-men-accomplished-this-year label 0\n",
      "url http://thenextweb.com/apps/2015/05/07/flickr-launches-redesigned-mobile-apps-encourages-you-to-upload-your-entire-camera-roll/gtm.js label 0\n",
      "url http://couchtuner.eu.com/2013/05/anger-management-s2-e17-charlie-lets-kate-take-charge.html label 0\n",
      "url http://olx.in/hi/item/nokia-5800-express-music-perfect-working-condition-body-average-cond-IDTIzUp.html label 0\n",
      "url http://venturebeat.com/2015/05/08/yelp-sale-rumor-reminds-us-that-social-is-terrible-as-a-business-even-if-it-did-change-the-web/ label 0\n",
      "url http://allegro.pl/listing/listing.php?id=122233&order=m&string=%7Bstring%7D&bmatch=seng-ps-mp-p-sm-isqm-2-e-0402 label 0\n",
      "url http://allegro.pl/listing/listing.php?id=20782&order=m&p=2&string=%7Bstring%7D&bmatch=seng-v10-p-sm-isqm-2-o-0113 label 0\n",
      "url http://tinnhanh360.net/-ong-tay-de-thuong-ban-do-choi-dao-ha-noi-gay-ngac-nhien-thich-thu.html label 0\n",
      "url http://metro.co.uk/2014/08/15/big-brother-2014-shock-twist-ashleigh-coyle-comes-second-4834723/ label 0\n",
      "url http://atwiki.jp/wiki/%EF%BC%AD%EF%BC%B5%EF%BC%A7%EF%BC%A5%EF%BC%AE%20%E6%82%9F%E7%A9%BA label 0\n",
      "url http://emgn.com/tv/schnauzer-passes-out-with-excitement-when-he-is-reunited-with-his-human-after-2-years/ label 0\n",
      "url http://nguyentandung.org/bo-truong-nguyen-bac-son-se-manh-tay-ngan-chan-tin-nhan-rac.html label 0\n"
     ]
    },
    {
     "name": "stderr",
     "output_type": "stream",
     "text": [
      "2024-11-18 22:51:42,513 - whois.whois - ERROR - Error trying to connect to socket: closing socket - [Errno 54] Connection reset by peer\n"
     ]
    },
    {
     "name": "stdout",
     "output_type": "stream",
     "text": [
      "url http://motthegioi.vn/tai-chinh-bat-dong-san/tu-17-nguoi-mua-nha-dat-phai-cong-them-hang-loat-chi-phi-187472.html label 0\n"
     ]
    },
    {
     "name": "stderr",
     "output_type": "stream",
     "text": [
      "2024-11-18 22:51:44,426 - whois.whois - ERROR - Error trying to connect to socket: closing socket - [Errno 8] nodename nor servname provided, or not known\n"
     ]
    },
    {
     "name": "stdout",
     "output_type": "stream",
     "text": [
      "url http://spankbang.com/4ze1/video/brunette+with+big+boobs+fucked+in+a+cellar+public+agent label 0\n",
      "url http://torcache.net/torrent/FECDCFB88429EDAE6184E26D63EDD5A1AB2B1736.torrent?title=[kickass.to]bro.s.before.ho.s.2013.720p.brrip.nl.gesproken.dutchreleaseteam label 0\n",
      "url http://mic.com/articles/117370/baltimore-reveals-why-we-need-our-musicians-now-more-than-ever label 0\n",
      "url http://thenextweb.com/dd/2014/04/08/ux-designers-side-drawer-navigation-costing-half-user-engagement/feed/gtm.start label 0\n",
      "url http://emgn.com/movies/person-of-interest-what-to-expect-from-season-4-release-date/ label 0\n",
      "url http://depositphotos.com/login.html?url=%2F34608623%2Fstock-illustration-vector-abstract-3d-road-infographics.html label 0\n",
      "url http://serverfault.com/questions/52370/what-is-the-order-group-policy-settings-are-applied label 0\n",
      "url http://kakaku.com/kaden/portable-dvd-player/ranking_2026/pricedown/div-gpt-ad-k/header_text label 0\n",
      "url http://indianexpress.com/article/world/asia/pak-officer-gave-up-osama-kayani-isi-chief-helped-us/ label 0\n",
      "url http://nypost.com/2015/05/13/brooklyn-man-kills-cheating-girlfriends-lover-then-self/?share=email label 0\n",
      "url http://distractify.com/post/related/id/5543af854a0c4b511d7c70a2/skip/30/limit/10/back/0 label 0\n",
      "url http://sourceforge.net/directory/communications/add_facet_filter?facet=os&constraint=Mac label 0\n",
      "url http://babal.net/books/view/960/%D8%AE%D9%8A%D8%A7%D9%86%D8%A9-%D8%A7%D9%84%D9%85%D8%AB%D9%82%D9%81%D9%8A%D9%86 label 0\n",
      "url http://serverfault.com/questions/690852/use-powershell-to-start-a-gui-program-on-a-remote-machine label 0\n",
      "url http://cookpad.com/login?rt=%2Fcategory%2Frecommend%2F590%3Frt%3D%252Fcategory%252F590 label 0\n",
      "url http://plarium.com/en/strategy-games/stormfall-age-of-war/news/withdraw-to-the-catacombs/ label 0\n",
      "url http://pikabu.ru/tag/%D1%81%D1%82%D0%B0%D0%B2%D1%80%D0%BE%D0%BF%D0%BE%D0%BB%D1%8C/hot label 0\n",
      "url http://grantland.com/hollywood-prospectus/2015-oscar-nomination-predictions-best-director-best-picture/ label 0\n",
      "url http://allegro.pl/listing/user/listing.php?us_id=25662671&order=p&string=B-110+HIT&search_scope=userItems-25662671&bmatch=s0-default-0113&sh_dwh_token=d0b6dd74a8394345128e20d296cb1c5e label 0\n",
      "url http://nguyentandung.org/bai-do-xe-ngam-trong-cong-vien-thong-nhat-thu-hoi-von-cach-nao.html label 0\n"
     ]
    },
    {
     "name": "stderr",
     "output_type": "stream",
     "text": [
      "2024-11-18 22:52:46,863 - whois.whois - ERROR - Error trying to connect to socket: closing socket - [Errno 54] Connection reset by peer\n"
     ]
    },
    {
     "name": "stdout",
     "output_type": "stream",
     "text": [
      "url http://allegro.pl/listing/listing.php?bmatch=seng-v6-p-sm-isqm-2-ce-0113&id=175&order=m&string=%7Bstring%7D label 0\n",
      "url http://europa.eu/about-eu/agencies/regulatory_agencies_bodies/policy_agencies/eurofound/index_en.htm label 0\n",
      "url http://extratorrent.cc/torrent/4190380/VA-Unusual_Techno_One_LP-WEB-2015-CBR_INT.html label 0\n",
      "url http://persianblog.ir/tags/42604/8/%d8%b3%d9%87%d8%b1%d8%a7%d8%a8_%d8%b3%d9%be%d9%87%d8%b1%db%8c/ label 0\n",
      "url http://distractify.com/post/related/id/5537c6314a0c4b89316cdbdf/skip/20/limit/10/back/0 label 0\n",
      "url http://kenh14.vn/star/lo-dien-ban-trai-hot-boy-cua-van-mai-huong-20140716121655295.chn label 0\n"
     ]
    },
    {
     "name": "stderr",
     "output_type": "stream",
     "text": [
      "2024-11-18 22:53:06,076 - whois.whois - ERROR - Error trying to connect to socket: closing socket - [Errno 8] nodename nor servname provided, or not known\n"
     ]
    },
    {
     "name": "stdout",
     "output_type": "stream",
     "text": [
      "url https://twitter.com/share?url=http%3A%2F%2Fhubpages.com%2Fhub%2FWhats-the-difference-between-self-esteem-and-confidence&text=Definitions+of+Confidence+%26+Self+Esteem+-+What%27s+the+Difference%3F label 0\n",
      "url http://nesn.com/2015/04/draftkings-giancarlo-stanton-mookie-betts-in-tom-carons-fantasy-lineup/ label 0\n",
      "url http://fishki.net/1526766-kapello-zajavil-o-bezumii-prezidenta-rfs.html?mode=recent label 0\n",
      "url http://syosetu.com/searchuser/search/index.php?name1st=%E3%82%80&all=1&all2=1&all3=1&all4=1&p=10 label 0\n",
      "url http://akhbarelyom.com/news/newdetails/411497/1/%D9%85%D8%B5%D8%B1-%D8%A7%D9%84%D8%B9%D8%B7%D8%A7%D8%A1-%D8%AA.html label 0\n",
      "url http://allegro.pl/triumph-stringi-precious-essence-string-granat-40-i5035632976.html label 0\n",
      "url http://getpocket.com/signup?mode=socialmode&route=http://getpocket.com/p/pocket-topics/fitness label 0\n",
      "url http://mylust.com/videos/235751/sexy-hentai-chick-gets-her-huge-succulent-tits-squeezed/ label 0\n",
      "url http://censor.net.ua/photo_news/335629/v_tsentre_donetska_ural_boevikov_dnr_razdavil_jiguli_2_pogibshih_narod_ne_protestuet_foto label 0\n",
      "url http://pornsharing.com/latina-girl-chloe-amour-and-busty-blonde-step-mom-julia-ann-get-face-fucked_v78082 label 0\n",
      "url http://genius.com/4810956/Ol-dirty-bastard-never-before-seen-ol-dirty-bastard-raw-and-uncut-interview/But-its-just-hey-the-kids-love-dirty-you-know-what-i-mean-every-time-they-see-dirty-they-smile-you-know-what-i-mean label 0\n",
      "url http://sourceforge.net/directory/communications/add_facet_filter?facet=language&constraint=PL%2FSQL label 0\n",
      "url http://codecanyon.net/item/bitdrop-file-hosting-with-short-url-link/full_screen_preview/426023 label 0\n",
      "url http://qz.com/404309/photos-silicon-valley-fashion-week-kicks-off-with-drone-models/ label 0\n",
      "url http://kenh14.vn/2-tek/ban-jailbreak-he-dieu-hanh-ios-613-toi-ios-615-chinh-thuc-trinh-lang-2013122404361169.chn label 0\n"
     ]
    },
    {
     "name": "stderr",
     "output_type": "stream",
     "text": [
      "2024-11-18 22:54:21,773 - whois.whois - ERROR - Error trying to connect to socket: closing socket - [Errno 8] nodename nor servname provided, or not known\n"
     ]
    },
    {
     "name": "stdout",
     "output_type": "stream",
     "text": [
      "url http://uproxx.com/movies/2015/04/paul-bettany-gives-us-a-glimpse-of-vision-in-action-in-avengers-age-of-ultron/ label 0\n",
      "url http://babal.net/women/view/80/%D8%AF%D9%84%D9%91%D9%84%D9%8A-%D9%86%D9%81%D8%B3%D9%83-%D8%A3%D9%8A%D8%AA%D9%87%D8%A7-%D8%A7%D9%84%D8%A3%D9%85-%D9%85%D8%B9-%D9%87%D8%B0%D9%87-%D8%A7%D9%84%D9%86%D8%B5%D8%A7%D8%A6%D8%AD label 0\n",
      "url http://mic.com/articles/116370/avengers-stars-sexist-jokes-illustrate-a-major-problem-with-the-comic-book-industry label 0\n",
      "url http://torcache.net/torrent/0FF0E2F39CD5AB403EE03F8E1B69127D0476D976.torrent?title=[kickass.to]komban.2015.hq.real.dvdscr.xvid.1cd.700mb.tamil label 0\n",
      "url https://paytm.com/blog/paytm-offer-for-app-users-get-upto-rs-50-cash-back/?share=email label 0\n",
      "url http://motthegioi.vn/suckhoe/nu-cuoi-y-hoc/nu-cuoi-suc-khoe-nhung-li-do-nen-yeu-chang-trai-bung-bu-188294.html label 0\n"
     ]
    },
    {
     "name": "stderr",
     "output_type": "stream",
     "text": [
      "2024-11-18 22:54:37,597 - whois.whois - ERROR - Error trying to connect to socket: closing socket - [Errno 8] nodename nor servname provided, or not known\n"
     ]
    },
    {
     "name": "stdout",
     "output_type": "stream",
     "text": [
      "url http://torcache.net/torrent/047D47DFF4DC5CD9BEA6D0F4C57D68F2F2D71205.torrent?title=[kickass.to]night.at.the.museum.secret.of.the.tomb.2014.1080p.brrip.x264.yify label 0\n",
      "url http://thenextweb.com/asia/2014/09/26/myanmars-mobile-revolution-kicks-telenor-prepares-launch-service/gtm.start label 0\n",
      "url http://extratorrent.cc/torrent/4189616/Jedi+Mind.Tricks.The.Thief.and.the.Fallen.2015.mp3.vbr.NOiR.html label 0\n",
      "url http://genius.com/2990084/Us-general-services-administration-gsa-mentor-protege-program-subpart-51970/Incentives-for-prime-contractors label 0\n",
      "url http://thenextweb.com/apps/2012/04/19/500px-launches-android-app-and-overhauls-its-ipad-version-too/ label 0\n",
      "url http://kienthuc.net.vn/tin-tuc-tuyen-sinh/ty-le-choi-cua-dai-hoc-fpt-nam-2014-487408.html label 0\n"
     ]
    },
    {
     "name": "stderr",
     "output_type": "stream",
     "text": [
      "2024-11-18 22:54:57,569 - whois.whois - ERROR - Error trying to connect to socket: closing socket - [Errno 8] nodename nor servname provided, or not known\n"
     ]
    },
    {
     "name": "stdout",
     "output_type": "stream",
     "text": [
      "url http://sourceforge.net/directory/development/add_facet_filter?facet=license&constraint=OSI-Approved+Open+Source+%3A%3A+PHP+License label 0\n",
      "url http://nypost.com/2015/01/28/tepper-loses-fight-to-restructure-caesars-in-delaware/ label 0\n",
      "url http://ap.org/Content/Press-Release/2013/NFL-celebrates-season-with-NFL-Honors-Super-Bowl-Eve label 0\n"
     ]
    },
    {
     "name": "stderr",
     "output_type": "stream",
     "text": [
      "2024-11-18 22:55:08,858 - whois.whois - ERROR - Error trying to connect to socket: closing socket - [Errno 54] Connection reset by peer\n"
     ]
    },
    {
     "name": "stdout",
     "output_type": "stream",
     "text": [
      "url http://indianexpress.com/article/cities/ludhiana/32-year-old-commits-suicide-at-in-laws-place-in-ludhiana/ label 0\n",
      "url http://extratorrent.cc/torrent_download/4191066/Chappie.2015.720p.WEB-DL.AAC2.0.H.264-PLAYNOW.torrent label 0\n",
      "url http://correios.com.br/english/the-brazil-post/education-and-culture/cultural-centers/cultural-center-of-rio-de-janeiro label 0\n",
      "url http://web.de/magazine/sport/fussball/champions-league/fc-bayern-muenchen-fc-barcelona/fc-bayern-muenchen-fc-barcelona-enrique-fuerchtet-freund-guardiola-30633596 label 0\n"
     ]
    },
    {
     "name": "stderr",
     "output_type": "stream",
     "text": [
      "2024-11-18 22:55:16,653 - whois.whois - ERROR - Error trying to connect to socket: closing socket - [Errno 8] nodename nor servname provided, or not known\n"
     ]
    },
    {
     "name": "stdout",
     "output_type": "stream",
     "text": [
      "url http://noticias.uol.com.br/saude/album/2015/03/17/dengue-pelo-brasil.htm?abrefoto=63 label 0\n",
      "url http://bdnews24.com/economy/2015/05/05/world-bank-to-give-bangladesh-200-million-loan-to-cut-poverty label 0\n",
      "url http://kenh14.vn/tv-show/viet-huong-gao-thet-to-chong-leng-pheng-trai-tre-20150208121726226.chn label 0\n"
     ]
    },
    {
     "name": "stderr",
     "output_type": "stream",
     "text": [
      "2024-11-18 22:55:28,752 - whois.whois - ERROR - Error trying to connect to socket: closing socket - [Errno 8] nodename nor servname provided, or not known\n"
     ]
    },
    {
     "name": "stdout",
     "output_type": "stream",
     "text": [
      "url http://codecanyon.net/item/photofans-your-social-network-to-share-photos/full_screen_preview/6308014 label 0\n",
      "url http://tunein.com/radio/Carolina-Mudcats-at-Myrtle-Beach-Pelicans-May-13-2015-p729095/ label 0\n",
      "url http://nguyentandung.org/vi-sao-nguyen-tong-bien-tap-bao-nguoi-cao-tuoi-bi-khoi-to.html label 0\n"
     ]
    },
    {
     "name": "stderr",
     "output_type": "stream",
     "text": [
      "2024-11-18 22:55:39,673 - whois.whois - ERROR - Error trying to connect to socket: closing socket - [Errno 54] Connection reset by peer\n"
     ]
    },
    {
     "name": "stdout",
     "output_type": "stream",
     "text": [
      "url http://kickass.to/microsoft-office-professional-plus-2013-64-bit-english-rareabyss-t10091322.html label 0\n"
     ]
    },
    {
     "name": "stderr",
     "output_type": "stream",
     "text": [
      "2024-11-18 22:55:44,519 - whois.whois - ERROR - Error trying to connect to socket: closing socket - [Errno 54] Connection reset by peer\n"
     ]
    },
    {
     "name": "stdout",
     "output_type": "stream",
     "text": [
      "url http://weathernews.jp/smart/sora_mission/0/glance.html?missionid=1431484304.67676&fm=sw&fmdotop=2 label 0\n",
      "url http://atwiki.jp/wiki/%E8%A9%A6%E9%A8%93%E4%B8%AD%20%E9%9C%87%E7%81%BD%E5%AF%BE%E5%BF%9C label 0\n",
      "url http://plarium.com/en/strategy-games/sparta-war-of-empires/mmo-masters/offensive-positions label 0\n",
      "url https://chaturbate.com/tipping/spy_on_private_show_tokens_per_minute/ingridblondy94/ label 0\n",
      "url http://babal.net/news/view/42903/%D8%AD%D8%A8%D8%B3-%D9%85%D8%AD%D8%A7%D9%81%D8%B8-%D8%A7%D9%84%D8%A3%D9%82%D8%B5%D8%B1-%D8%A7%D9%84%D8%B3%D8%A7%D8%A8%D9%82-%D8%B9%D8%A7%D9%85%D9%8A%D9%86-%D9%88%D8%AA%D8%BA%D8%B1%D9%8A%D9%85%D9%87-10-%D8%A2%D9%84%D8%A7%D9%81-%D8%AC%D9%86%D9%8A%D9%87-%D9%84%D8%B9%D8%AF%D9%85-%D8%AA%D9%86%D9%81%D9%8A%D8%B0%D9%87-%D8%AD%D9%83%D9%85%D8%A7-%D9%82%D8%B6%D8%A7%D8%A6%D9%8A%D8%A7 label 0\n",
      "url http://sberbank.ru/portalserver/sb-portal-ru/ru/person/paymentsandremittances/remittance/in/beznal_rus/beznal_snal_rus label 0\n",
      "url http://torcache.net/torrent/3671994FE2E23CC3E914E74EB63E5A85AA184B4B.torrent?title=[kickass.to]focus.2015.720p.hq.ac3.dd5.1.externe.eng.nl.subs.tbs label 0\n",
      "url http://torcache.net/torrent/110A54D90A4F523BF7051AAD5ADE8F5E72FC3ED2.torrent?title=[kickass.to]hentai.3d.milky.maid.may.2015 label 0\n",
      "url http://pikabu.ru/tag/%D0%90%D1%80%D0%B5%D0%BD%D0%B4%D0%B0%20%D0%B6%D0%B8%D0%BB%D1%8C%D1%8F/hot label 0\n",
      "url http://mirtesen.ru/url?e=simple_click&blog_post_id=43032218893&url=http%3A%2F%2Fnarodnayamedicyna.ru%2Fblog%2F43032218893%2Fsudorogi label 0\n",
      "url http://mirtesen.ru/url?e=simple_click&blog_post_id=43294960453&url=http%3A%2F%2Fs30469371943.mirtesen.ru%2Fblog%2F43294960453%2FAh-leto%21 label 0\n",
      "url http://distractify.com/post/related/id/54b985434a0c4b136ee6813d/skip/20/limit/10/back/0 label 0\n",
      "url http://jalopnik.com/5958144/gourmet-food-trucks-feed-storm-battered-and-starved-coney-island-residents label 0\n",
      "url http://techcrunch.com/2015/01/11/from-a-rebuilt-60s-motel-in-vegas-orderwithme-tackles-big-e-commerce-challenges/ label 0\n",
      "url https://twitter.com/home?status=%E3%83%8C%E3%81%91%E3%82%8B%EF%BC%81%E3%80%90%E3%82%A2%E3%83%8B%E3%83%A1%E3%80%91+http%3A%2F%2Fero-video.net%2Ft%2FfnLTNjuNx6qWFt13+%E3%82%A2%E3%83%AB%E3%83%90%E3%82%A4%E3%83%88%E3%81%AE%E5%85%88%E8%BC%A9%E3%81%AE%E5%A5%B3%E3%81%AE%E3%82%B3%E3%81%A8%E3%82%A8%E3%83%83%E3%83%81%E3%80%80%E7%90%B4%E5%B9%B3%E3%81%95%E3%82%86+%23ero+%23douga+%23agesage label 0\n",
      "url http://torcache.net/torrent/9CFDD892CDA9F5EEA5DB98A955E4E1382262E670.torrent?title=[kickass.to]arrow.s03e04.hdtv.x264.lol.eztv label 0\n",
      "url http://thenextweb.com/insider/2014/10/29/unbabel-integrates-mailchimp-offer-translation-service-promotional-emails/gtm.start/ label 0\n",
      "url http://arstechnica.com/science/2015/05/carbon-emissions-put-sixteen-percent-of-species-at-risk-of-extinction/ label 0\n",
      "url http://tunein.com/radio/Economics-of-Political-Memoir---Marketplace-May-13-2015-p729173/15480783/ca-pub-1542925551861702/Program label 0\n",
      "url http://torrentdn.com/bbs/s.php?bo_table=torrent_mid&wr_id=57742&k=%EC%99%95%EC%A2%8C&page=1 label 0\n",
      "url http://searchengineland.com/twitters-full-google-search-integration-is-coming-in-may-219941 label 0\n",
      "url http://nesn.com/2014/07/veteran-leaders-return-to-field-for-day-1-of-patriots-training-camp-video/ label 0\n",
      "url https://paytm.com/blog/pep-up-this-summer-season-with-paytms-first-ever-fashion-fest/ label 0\n",
      "url http://torcache.net/torrent/523EF7169F14C884FC2AD988451BBB6A4E0BD5F4.torrent?title=[kickass.to]project.almanac.2014.720p.brrip.x264.yify label 0\n",
      "url http://metro.co.uk/2015/04/01/zayn-malik-loses-50000-twitter-follows-in-wake-of-one-direction-departure-but-dont-worry-hes-still-popular-5131044/ label 0\n",
      "url http://censor.net.ua/jokes/all/page/1/hero/0/category/138/interval/5/author/0/sortby/date label 0\n",
      "url http://depositphotos.com/login.html?url=%2F25901805%2Fstock-photo-breakfast-with-coffee-orange-juice.html label 0\n",
      "url http://thenextweb.com/eu/2015/05/09/meet-the-man-who-left-nasa-to-join-a-european-startup/gtm.start label 0\n",
      "url http://putlocker.is/watch-night-at-the-museum-secret-of-the-tomb-online-free-putlocker.html label 0\n",
      "url http://tunein.com/radio/Radio-Fredericton-905-s12073/15480783/ca-pub-1542925551861702/StationLeader label 0\n",
      "url http://lifehacker.com/5910717/plan-your-free-online-education-at-lifehacker-u-summer-semester-2012 label 0\n",
      "url http://extratorrent.cc/torrent/4189607/The+Sleepwalker.2014.LiMiTED.DVDRip.x264.LPD.html label 0\n",
      "url http://mylust.com/videos/64031/chinese-orgy-with-sexy-and-skinny-asian-babe-in-her-bedroom/ label 0\n",
      "url http://buzzfil.net/m/show-art/voici-16-voisins-qui-ont-pique-une-crise-de-nerfs-9.html label 0\n",
      "url http://censor.net.ua/video_news/334975/ochered_za_pensieyi_v_okkupirovannom_luganske_ty_so_zvukom_zapishi_s_matyukami_video label 0\n",
      "url http://ap.org/Content/Press-Release/2014/The-personal-news-cycle-how-Americans-get-their-news label 0\n"
     ]
    },
    {
     "name": "stderr",
     "output_type": "stream",
     "text": [
      "2024-11-18 22:59:11,106 - whois.whois - ERROR - Error trying to connect to socket: closing socket - [Errno 54] Connection reset by peer\n"
     ]
    },
    {
     "name": "stdout",
     "output_type": "stream",
     "text": [
      "url http://akhbarelyom.com/news/newdetails/411484/1/%D9%85%D8%B5%D8%B1%D9%8A%D8%AA%D8%A7%D9%86-%D9%81%D9%82%D8%B7-.html label 0\n",
      "url http://sourceforge.net/directory/communications/add_facet_filter?facet=os&constraint=Modern+%28Vendor-Supported%29+Desktop+Operating+Systems+%3A%3A+OpenBSD label 0\n",
      "url http://kakaku.com/kaden/label-writer/ranking_2076/pricedown/div-gpt-ad-k/header_text label 0\n",
      "url http://jezebel.com/jameis-winston-files-lawsuit-against-woman-who-accused-1703312090/+miamirohan label 0\n",
      "url http://grantland.com/hollywood-prospectus/mad-men-power-rankings-episode-710-the-forecast/ label 0\n",
      "url https://www.gov.uk/government/world/uk-delegation-to-organization-for-security-and-co-operation-in-europe label 0\n",
      "url http://emgn.com/entertainment/youll-be-left-speechless-at-the-wartime-bravery-of-these-22-animal-heroes/ label 0\n",
      "url http://bdnews24.com/politics/2015/05/02/dire-consequences-unless-city-polls-cancelled-bnp-s-hannan-shah label 0\n",
      "url http://web.de/magazine/unterhaltung/adel/royal-baby-2/wohnt-prinzessin-charlotte-elizabeth-diana-30619870 label 0\n",
      "url http://extratorrent.cc/torrent/4189415/Snow%2C+Heather-Sweet+Deception+-+epub+-+zeke23.html label 0\n",
      "url http://torcache.net/torrent/4EFE4986FC8B15951469CF6AC82FE102E8C9007A.torrent?title=[kickass.to]if.i.stay.2014.720p.brrip.x264.yify label 0\n",
      "url https://twitter.com/share?url=http%3A%2F%2Fhubpages.com%2Fhub%2FEMT-Electrical-Conduit-Pipe-Bending-the-Math-Behind-a-Conduit-Bending-Guide&text=Formulas+and+Multipliers+For+Bending+Conduit+or+Electrical+Pipe label 0\n",
      "url http://seekingalpha.com/article/2471615-mexico-economy-to-move-with-energy-reforms-part-1 label 0\n",
      "url http://web.tv/liveCategory/6/language/1/index/changeLanguage/newshared/searchAutoComplete label 0\n",
      "url http://indianexpress.com/article/sports/football/chelsea-go-past-leicester-city-3-1-eye-premier-league-title/ label 0\n",
      "url http://web.de/magazine/sport/fussball/champions-league/wunder-fc-schalke-04-real-madrid-champions-league-17321480 label 0\n",
      "url http://olx.co.id/i2/elektronik-gadget/komputer/keyboard-mouse/elektronik-gadget/komputer/keyboard-mouse label 0\n"
     ]
    }
   ],
   "source": [
    "#Extracting the feautres & storing them in a list\n",
    "legi_features = []\n",
    "label = 0\n",
    "\n",
    "for i in range(0, 5000):\n",
    "    url = legiurl['URLs'][i]\n",
    "    legi_features.append(featureExtraction(url,label))"
   ]
  },
  {
   "cell_type": "code",
   "execution_count": null,
   "id": "d512b09d-f893-4970-8f07-eb2e97a11261",
   "metadata": {},
   "outputs": [],
   "source": [
    "#converting the list to dataframe\n",
    "feature_names = ['Domain', 'Have_IP', 'Have_At', 'URL_Length', 'URL_Depth','Redirection', \n",
    "                      'https_Domain', 'TinyURL', 'Prefix/Suffix', 'DNS_Record', 'Web_Traffic', \n",
    "                      'Domain_Age', 'Domain_End', 'iFrame', 'Mouse_Over','Right_Click', 'Web_Forwards', 'Label']\n",
    "\n",
    "legitimate = pd.DataFrame(legi_features, columns= feature_names)\n",
    "legitimate.head()"
   ]
  },
  {
   "cell_type": "code",
   "execution_count": null,
   "id": "38654705-5050-4ebd-87e2-b30219b41947",
   "metadata": {},
   "outputs": [],
   "source": []
  }
 ],
 "metadata": {
  "kernelspec": {
   "display_name": "Python 3 (ipykernel)",
   "language": "python",
   "name": "python3"
  },
  "language_info": {
   "codemirror_mode": {
    "name": "ipython",
    "version": 3
   },
   "file_extension": ".py",
   "mimetype": "text/x-python",
   "name": "python",
   "nbconvert_exporter": "python",
   "pygments_lexer": "ipython3",
   "version": "3.12.2"
  }
 },
 "nbformat": 4,
 "nbformat_minor": 5
}
