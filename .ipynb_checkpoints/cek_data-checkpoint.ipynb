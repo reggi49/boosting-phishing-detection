{
 "cells": [
  {
   "cell_type": "code",
   "execution_count": 3,
   "id": "ec0624bc-2156-47ff-b480-068b027406c1",
   "metadata": {},
   "outputs": [],
   "source": [
    "## **Checking dan Cleaning Data**"
   ]
  },
  {
   "cell_type": "code",
   "execution_count": 8,
   "id": "ccb0fc51-262f-4727-bfe3-93c3b7eb061e",
   "metadata": {},
   "outputs": [],
   "source": [
    "import pandas as pd\n",
    "import numpy as np\n",
    "import wget"
   ]
  },
  {
   "cell_type": "code",
   "execution_count": 9,
   "id": "b2395482-47d3-471c-9575-0ca677bd728d",
   "metadata": {},
   "outputs": [
    {
     "data": {
      "text/html": [
       "<div>\n",
       "<style scoped>\n",
       "    .dataframe tbody tr th:only-of-type {\n",
       "        vertical-align: middle;\n",
       "    }\n",
       "\n",
       "    .dataframe tbody tr th {\n",
       "        vertical-align: top;\n",
       "    }\n",
       "\n",
       "    .dataframe thead th {\n",
       "        text-align: right;\n",
       "    }\n",
       "</style>\n",
       "<table border=\"1\" class=\"dataframe\">\n",
       "  <thead>\n",
       "    <tr style=\"text-align: right;\">\n",
       "      <th></th>\n",
       "      <th>phish_id</th>\n",
       "      <th>url</th>\n",
       "      <th>phish_detail_url</th>\n",
       "      <th>submission_time</th>\n",
       "      <th>verified</th>\n",
       "      <th>verification_time</th>\n",
       "      <th>online</th>\n",
       "      <th>target</th>\n",
       "    </tr>\n",
       "  </thead>\n",
       "  <tbody>\n",
       "    <tr>\n",
       "      <th>0</th>\n",
       "      <td>8855181</td>\n",
       "      <td>https://sparkflaretrust.com/connect.html</td>\n",
       "      <td>http://www.phishtank.com/phish_detail.php?phis...</td>\n",
       "      <td>2024-11-16T03:46:02+00:00</td>\n",
       "      <td>yes</td>\n",
       "      <td>2024-11-16T03:52:29+00:00</td>\n",
       "      <td>yes</td>\n",
       "      <td>Other</td>\n",
       "    </tr>\n",
       "    <tr>\n",
       "      <th>1</th>\n",
       "      <td>8855180</td>\n",
       "      <td>https://llltreuirzleeno.webflow.io/</td>\n",
       "      <td>http://www.phishtank.com/phish_detail.php?phis...</td>\n",
       "      <td>2024-11-16T03:37:15+00:00</td>\n",
       "      <td>yes</td>\n",
       "      <td>2024-11-16T03:52:29+00:00</td>\n",
       "      <td>yes</td>\n",
       "      <td>Other</td>\n",
       "    </tr>\n",
       "    <tr>\n",
       "      <th>2</th>\n",
       "      <td>8855179</td>\n",
       "      <td>http://llltreuirzleeno.webflow.io</td>\n",
       "      <td>http://www.phishtank.com/phish_detail.php?phis...</td>\n",
       "      <td>2024-11-16T03:37:14+00:00</td>\n",
       "      <td>yes</td>\n",
       "      <td>2024-11-16T03:52:29+00:00</td>\n",
       "      <td>yes</td>\n",
       "      <td>Other</td>\n",
       "    </tr>\n",
       "    <tr>\n",
       "      <th>3</th>\n",
       "      <td>8855176</td>\n",
       "      <td>http://hubtrezorstart.webflow.io</td>\n",
       "      <td>http://www.phishtank.com/phish_detail.php?phis...</td>\n",
       "      <td>2024-11-16T03:32:28+00:00</td>\n",
       "      <td>yes</td>\n",
       "      <td>2024-11-16T03:52:29+00:00</td>\n",
       "      <td>yes</td>\n",
       "      <td>Other</td>\n",
       "    </tr>\n",
       "    <tr>\n",
       "      <th>4</th>\n",
       "      <td>8855177</td>\n",
       "      <td>https://hubtrezorstart.webflow.io/</td>\n",
       "      <td>http://www.phishtank.com/phish_detail.php?phis...</td>\n",
       "      <td>2024-11-16T03:32:28+00:00</td>\n",
       "      <td>yes</td>\n",
       "      <td>2024-11-16T03:52:29+00:00</td>\n",
       "      <td>yes</td>\n",
       "      <td>Other</td>\n",
       "    </tr>\n",
       "  </tbody>\n",
       "</table>\n",
       "</div>"
      ],
      "text/plain": [
       "   phish_id                                       url  \\\n",
       "0   8855181  https://sparkflaretrust.com/connect.html   \n",
       "1   8855180       https://llltreuirzleeno.webflow.io/   \n",
       "2   8855179         http://llltreuirzleeno.webflow.io   \n",
       "3   8855176          http://hubtrezorstart.webflow.io   \n",
       "4   8855177        https://hubtrezorstart.webflow.io/   \n",
       "\n",
       "                                    phish_detail_url  \\\n",
       "0  http://www.phishtank.com/phish_detail.php?phis...   \n",
       "1  http://www.phishtank.com/phish_detail.php?phis...   \n",
       "2  http://www.phishtank.com/phish_detail.php?phis...   \n",
       "3  http://www.phishtank.com/phish_detail.php?phis...   \n",
       "4  http://www.phishtank.com/phish_detail.php?phis...   \n",
       "\n",
       "             submission_time verified          verification_time online target  \n",
       "0  2024-11-16T03:46:02+00:00      yes  2024-11-16T03:52:29+00:00    yes  Other  \n",
       "1  2024-11-16T03:37:15+00:00      yes  2024-11-16T03:52:29+00:00    yes  Other  \n",
       "2  2024-11-16T03:37:14+00:00      yes  2024-11-16T03:52:29+00:00    yes  Other  \n",
       "3  2024-11-16T03:32:28+00:00      yes  2024-11-16T03:52:29+00:00    yes  Other  \n",
       "4  2024-11-16T03:32:28+00:00      yes  2024-11-16T03:52:29+00:00    yes  Other  "
      ]
     },
     "execution_count": 9,
     "metadata": {},
     "output_type": "execute_result"
    }
   ],
   "source": [
    "pData = pd.read_csv(\"verified_online.csv\")\n",
    "phistank.head()"
   ]
  },
  {
   "cell_type": "code",
   "execution_count": null,
   "id": "61bd09df-8ced-4a29-a750-de2486b5b0ad",
   "metadata": {},
   "outputs": [],
   "source": []
  }
 ],
 "metadata": {
  "kernelspec": {
   "display_name": "Python 3 (ipykernel)",
   "language": "python",
   "name": "python3"
  },
  "language_info": {
   "codemirror_mode": {
    "name": "ipython",
    "version": 3
   },
   "file_extension": ".py",
   "mimetype": "text/x-python",
   "name": "python",
   "nbconvert_exporter": "python",
   "pygments_lexer": "ipython3",
   "version": "3.12.2"
  }
 },
 "nbformat": 4,
 "nbformat_minor": 5
}
